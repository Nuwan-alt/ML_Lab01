{
  "cells": [
    {
      "cell_type": "markdown",
      "metadata": {
        "id": "P5lT-aY7FKxV"
      },
      "source": [
        "## MAIN"
      ]
    },
    {
      "cell_type": "code",
      "execution_count": null,
      "metadata": {
        "id": "1G2T12UbeFMH"
      },
      "outputs": [],
      "source": []
    },
    {
      "cell_type": "code",
      "execution_count": 209,
      "metadata": {
        "id": "Fg7U9pFjeAe8"
      },
      "outputs": [],
      "source": [
        "# from google.colab import drive\n",
        "# drive.mount('/content/drive')"
      ]
    },
    {
      "cell_type": "code",
      "execution_count": 210,
      "metadata": {
        "colab": {
          "base_uri": "https://localhost:8080/",
          "height": 53
        },
        "id": "RqCcpFyXnAzV",
        "outputId": "355f1ef1-c43f-49dd-bb21-4491cced6e01"
      },
      "outputs": [
        {
          "name": "stdout",
          "output_type": "stream",
          "text": [
            " Volume in drive D is DATA\n",
            " Volume Serial Number is EADF-1FDB\n",
            "\n",
            " Directory of d:\\SeM\\ML\\190394R_Lab01\n",
            "\n",
            "10/02/2023  01:58 PM    <DIR>          .\n",
            "10/02/2023  01:58 PM    <DIR>          ..\n",
            "10/02/2023  02:00 PM            32,949 190394R_Lab01.ipynb\n",
            "10/02/2023  11:47 AM             9,954 190394R_lab01.py\n",
            "08/26/2023  04:21 AM           521,052 190394R_Lab01_Report.pdf\n",
            "10/02/2023  01:58 PM    <DIR>          output\n",
            "09/18/2023  10:25 AM               409 README.md\n",
            "08/25/2023  11:46 PM         2,382,718 test.csv\n",
            "08/24/2023  03:05 PM       142,453,947 train.csv\n",
            "08/25/2023  11:05 AM         2,387,396 valid.csv\n",
            "               7 File(s)    147,788,425 bytes\n",
            "               3 Dir(s)  303,195,418,624 bytes free\n"
          ]
        },
        {
          "data": {
            "text/plain": [
              "'d:\\\\SeM\\\\ML\\\\190394R_Lab01'"
            ]
          },
          "execution_count": 210,
          "metadata": {},
          "output_type": "execute_result"
        }
      ],
      "source": [
        "%ls\n",
        "%pwd"
      ]
    },
    {
      "cell_type": "code",
      "execution_count": 211,
      "metadata": {
        "colab": {
          "base_uri": "https://localhost:8080/"
        },
        "id": "LRVzlpXanIYZ",
        "outputId": "ab091590-b9ac-47a2-df94-78e64a95bc4f"
      },
      "outputs": [],
      "source": [
        "# %cd '/content/drive/MyDrive/lab_01'"
      ]
    },
    {
      "cell_type": "code",
      "execution_count": 212,
      "metadata": {
        "id": "V5A12OkqFOsA"
      },
      "outputs": [],
      "source": [
        "import pandas as pd\n",
        "import numpy as np\n",
        "\n",
        "# Labes\n",
        "L1 = 'label_1'\n",
        "L2 = 'label_2'\n",
        "L3 = 'label_3'\n",
        "L4 = 'label_4'\n",
        "\n",
        "LABELS = [L1,L2,L3,L4]\n",
        "AGE_LABEL = L2\n",
        "FEATURES = [f\"feature_{i}\" for i in range (1,257)]"
      ]
    },
    {
      "cell_type": "markdown",
      "metadata": {
        "id": "bkfHQaIgnQcg"
      },
      "source": [
        "Import csv files\n"
      ]
    },
    {
      "cell_type": "code",
      "execution_count": 213,
      "metadata": {
        "id": "hq2iGdYNFRKr"
      },
      "outputs": [],
      "source": [
        "train_df = pd.read_csv(\"train.csv\")\n",
        "valid_df = pd.read_csv(\"valid.csv\")\n",
        "test_df = pd.read_csv(\"test.csv\")"
      ]
    },
    {
      "cell_type": "markdown",
      "metadata": {
        "id": "9v4w5fpZphmf"
      },
      "source": [
        "Data segmentation and drop null values"
      ]
    },
    {
      "cell_type": "code",
      "execution_count": 214,
      "metadata": {
        "id": "G2hzPxqzFR4Q"
      },
      "outputs": [],
      "source": [
        "from sklearn.preprocessing import StandardScaler\n",
        "x_train = {}\n",
        "x_valid = {}\n",
        "y_train = {}\n",
        "y_valid = {}\n",
        "x_test = {}\n",
        "\n",
        "for target_label in LABELS:\n",
        "  tr_df = train_df[train_df['label_2'].notna()] if target_label == 'label_2' else train_df\n",
        "  vl_df = valid_df[valid_df['label_2'].notna()] if target_label == 'label_2' else valid_df\n",
        "  tst_df = test_df\n",
        "  scaler = StandardScaler()\n",
        "\n",
        "  x_train[target_label] = pd.DataFrame(scaler.fit_transform(tr_df.drop(LABELS, axis = 1)), columns=FEATURES)\n",
        "  y_train[target_label] = tr_df[target_label]\n",
        "\n",
        "  x_valid[target_label] = pd.DataFrame(scaler.transform(vl_df.drop(LABELS, axis = 1)), columns=FEATURES)\n",
        "  y_valid[target_label] = vl_df[target_label]\n",
        "\n",
        "  x_test[target_label] = pd.DataFrame(scaler.transform(tst_df.drop(LABELS, axis = 1)), columns=FEATURES)"
      ]
    },
    {
      "cell_type": "markdown",
      "metadata": {
        "id": "LhMiEqrtE_Y0"
      },
      "source": [
        "# Label_1"
      ]
    },
    {
      "cell_type": "code",
      "execution_count": 215,
      "metadata": {
        "colab": {
          "base_uri": "https://localhost:8080/",
          "height": 74
        },
        "id": "fFI7cx8nDpkz",
        "outputId": "d1a5ba3c-bedc-4de8-eb41-41e3b9e0fe6c"
      },
      "outputs": [
        {
          "data": {
            "text/html": [
              "<style>#sk-container-id-34 {color: black;}#sk-container-id-34 pre{padding: 0;}#sk-container-id-34 div.sk-toggleable {background-color: white;}#sk-container-id-34 label.sk-toggleable__label {cursor: pointer;display: block;width: 100%;margin-bottom: 0;padding: 0.3em;box-sizing: border-box;text-align: center;}#sk-container-id-34 label.sk-toggleable__label-arrow:before {content: \"▸\";float: left;margin-right: 0.25em;color: #696969;}#sk-container-id-34 label.sk-toggleable__label-arrow:hover:before {color: black;}#sk-container-id-34 div.sk-estimator:hover label.sk-toggleable__label-arrow:before {color: black;}#sk-container-id-34 div.sk-toggleable__content {max-height: 0;max-width: 0;overflow: hidden;text-align: left;background-color: #f0f8ff;}#sk-container-id-34 div.sk-toggleable__content pre {margin: 0.2em;color: black;border-radius: 0.25em;background-color: #f0f8ff;}#sk-container-id-34 input.sk-toggleable__control:checked~div.sk-toggleable__content {max-height: 200px;max-width: 100%;overflow: auto;}#sk-container-id-34 input.sk-toggleable__control:checked~label.sk-toggleable__label-arrow:before {content: \"▾\";}#sk-container-id-34 div.sk-estimator input.sk-toggleable__control:checked~label.sk-toggleable__label {background-color: #d4ebff;}#sk-container-id-34 div.sk-label input.sk-toggleable__control:checked~label.sk-toggleable__label {background-color: #d4ebff;}#sk-container-id-34 input.sk-hidden--visually {border: 0;clip: rect(1px 1px 1px 1px);clip: rect(1px, 1px, 1px, 1px);height: 1px;margin: -1px;overflow: hidden;padding: 0;position: absolute;width: 1px;}#sk-container-id-34 div.sk-estimator {font-family: monospace;background-color: #f0f8ff;border: 1px dotted black;border-radius: 0.25em;box-sizing: border-box;margin-bottom: 0.5em;}#sk-container-id-34 div.sk-estimator:hover {background-color: #d4ebff;}#sk-container-id-34 div.sk-parallel-item::after {content: \"\";width: 100%;border-bottom: 1px solid gray;flex-grow: 1;}#sk-container-id-34 div.sk-label:hover label.sk-toggleable__label {background-color: #d4ebff;}#sk-container-id-34 div.sk-serial::before {content: \"\";position: absolute;border-left: 1px solid gray;box-sizing: border-box;top: 0;bottom: 0;left: 50%;z-index: 0;}#sk-container-id-34 div.sk-serial {display: flex;flex-direction: column;align-items: center;background-color: white;padding-right: 0.2em;padding-left: 0.2em;position: relative;}#sk-container-id-34 div.sk-item {position: relative;z-index: 1;}#sk-container-id-34 div.sk-parallel {display: flex;align-items: stretch;justify-content: center;background-color: white;position: relative;}#sk-container-id-34 div.sk-item::before, #sk-container-id-34 div.sk-parallel-item::before {content: \"\";position: absolute;border-left: 1px solid gray;box-sizing: border-box;top: 0;bottom: 0;left: 50%;z-index: -1;}#sk-container-id-34 div.sk-parallel-item {display: flex;flex-direction: column;z-index: 1;position: relative;background-color: white;}#sk-container-id-34 div.sk-parallel-item:first-child::after {align-self: flex-end;width: 50%;}#sk-container-id-34 div.sk-parallel-item:last-child::after {align-self: flex-start;width: 50%;}#sk-container-id-34 div.sk-parallel-item:only-child::after {width: 0;}#sk-container-id-34 div.sk-dashed-wrapped {border: 1px dashed gray;margin: 0 0.4em 0.5em 0.4em;box-sizing: border-box;padding-bottom: 0.4em;background-color: white;}#sk-container-id-34 div.sk-label label {font-family: monospace;font-weight: bold;display: inline-block;line-height: 1.2em;}#sk-container-id-34 div.sk-label-container {text-align: center;}#sk-container-id-34 div.sk-container {/* jupyter's `normalize.less` sets `[hidden] { display: none; }` but bootstrap.min.css set `[hidden] { display: none !important; }` so we also need the `!important` here to be able to override the default hidden behavior on the sphinx rendered scikit-learn.org. See: https://github.com/scikit-learn/scikit-learn/issues/21755 */display: inline-block !important;position: relative;}#sk-container-id-34 div.sk-text-repr-fallback {display: none;}</style><div id=\"sk-container-id-34\" class=\"sk-top-container\"><div class=\"sk-text-repr-fallback\"><pre>SVC(class_weight=&#x27;balanced&#x27;, kernel=&#x27;linear&#x27;)</pre><b>In a Jupyter environment, please rerun this cell to show the HTML representation or trust the notebook. <br />On GitHub, the HTML representation is unable to render, please try loading this page with nbviewer.org.</b></div><div class=\"sk-container\" hidden><div class=\"sk-item\"><div class=\"sk-estimator sk-toggleable\"><input class=\"sk-toggleable__control sk-hidden--visually\" id=\"sk-estimator-id-34\" type=\"checkbox\" checked><label for=\"sk-estimator-id-34\" class=\"sk-toggleable__label sk-toggleable__label-arrow\">SVC</label><div class=\"sk-toggleable__content\"><pre>SVC(class_weight=&#x27;balanced&#x27;, kernel=&#x27;linear&#x27;)</pre></div></div></div></div></div>"
            ],
            "text/plain": [
              "SVC(class_weight='balanced', kernel='linear')"
            ]
          },
          "execution_count": 215,
          "metadata": {},
          "output_type": "execute_result"
        }
      ],
      "source": [
        "from sklearn import svm\n",
        "\n",
        "clf = svm.SVC(kernel='linear', class_weight='balanced')\n",
        "clf.fit(x_train[L1], y_train[L1])"
      ]
    },
    {
      "cell_type": "code",
      "execution_count": 216,
      "metadata": {
        "id": "_3WeUsSQXPIh"
      },
      "outputs": [],
      "source": [
        "from sklearn import metrics"
      ]
    },
    {
      "cell_type": "code",
      "execution_count": 217,
      "metadata": {
        "id": "hNu4EIraVa2D"
      },
      "outputs": [],
      "source": [
        "y_pred = clf.predict(x_valid[L1])\n",
        "y_pred_test_before_L1 = clf.predict(x_test[L1])"
      ]
    },
    {
      "cell_type": "markdown",
      "metadata": {
        "id": "pbu8DniYOXUq"
      },
      "source": [
        "## Accuracy Before Feature Engineering"
      ]
    },
    {
      "cell_type": "code",
      "execution_count": 218,
      "metadata": {
        "colab": {
          "base_uri": "https://localhost:8080/"
        },
        "id": "g6G8qPHtDs9p",
        "outputId": "961d69ad-04c1-4b05-fa78-f74ad7be1d7d"
      },
      "outputs": [
        {
          "name": "stdout",
          "output_type": "stream",
          "text": [
            "Accuracy: 0.9906666666666667\n",
            "Precision: 0.9914608132608133\n",
            "Recall: 0.9906666666666667\n"
          ]
        }
      ],
      "source": [
        "print(f\"Accuracy: {metrics.accuracy_score(y_valid[L1], y_pred)}\")\n",
        "print(f\"Precision: {metrics.precision_score(y_valid[L1], y_pred, average='weighted')}\")\n",
        "print(f\"Recall: {metrics.recall_score(y_valid[L1], y_pred,average='weighted')}\")"
      ]
    },
    {
      "cell_type": "markdown",
      "metadata": {
        "id": "d-ckx1kJuGDR"
      },
      "source": [
        "Feature Selection using SelectKBest\n"
      ]
    },
    {
      "cell_type": "code",
      "execution_count": 219,
      "metadata": {
        "id": "fsv_hVSOt1jF"
      },
      "outputs": [],
      "source": [
        "from sklearn.feature_selection import SelectKBest, f_classif\n",
        "\n",
        "selector = SelectKBest(f_classif, k=100)\n",
        "x_new = selector.fit_transform(x_train[L1], y_train[L1])"
      ]
    },
    {
      "cell_type": "code",
      "execution_count": 220,
      "metadata": {
        "colab": {
          "base_uri": "https://localhost:8080/"
        },
        "id": "qaSF4IrbDxTp",
        "outputId": "72bb0b14-4b27-42f9-e774-ee722078e436"
      },
      "outputs": [
        {
          "name": "stdout",
          "output_type": "stream",
          "text": [
            "(28520, 100)\n"
          ]
        }
      ],
      "source": [
        "\n",
        "print(x_new.shape)"
      ]
    },
    {
      "cell_type": "code",
      "execution_count": 221,
      "metadata": {
        "colab": {
          "base_uri": "https://localhost:8080/",
          "height": 74
        },
        "id": "h4uiOhi7D1ri",
        "outputId": "937788b1-8e6b-48ac-e8bb-0ac1668ebe57"
      },
      "outputs": [
        {
          "data": {
            "text/html": [
              "<style>#sk-container-id-35 {color: black;}#sk-container-id-35 pre{padding: 0;}#sk-container-id-35 div.sk-toggleable {background-color: white;}#sk-container-id-35 label.sk-toggleable__label {cursor: pointer;display: block;width: 100%;margin-bottom: 0;padding: 0.3em;box-sizing: border-box;text-align: center;}#sk-container-id-35 label.sk-toggleable__label-arrow:before {content: \"▸\";float: left;margin-right: 0.25em;color: #696969;}#sk-container-id-35 label.sk-toggleable__label-arrow:hover:before {color: black;}#sk-container-id-35 div.sk-estimator:hover label.sk-toggleable__label-arrow:before {color: black;}#sk-container-id-35 div.sk-toggleable__content {max-height: 0;max-width: 0;overflow: hidden;text-align: left;background-color: #f0f8ff;}#sk-container-id-35 div.sk-toggleable__content pre {margin: 0.2em;color: black;border-radius: 0.25em;background-color: #f0f8ff;}#sk-container-id-35 input.sk-toggleable__control:checked~div.sk-toggleable__content {max-height: 200px;max-width: 100%;overflow: auto;}#sk-container-id-35 input.sk-toggleable__control:checked~label.sk-toggleable__label-arrow:before {content: \"▾\";}#sk-container-id-35 div.sk-estimator input.sk-toggleable__control:checked~label.sk-toggleable__label {background-color: #d4ebff;}#sk-container-id-35 div.sk-label input.sk-toggleable__control:checked~label.sk-toggleable__label {background-color: #d4ebff;}#sk-container-id-35 input.sk-hidden--visually {border: 0;clip: rect(1px 1px 1px 1px);clip: rect(1px, 1px, 1px, 1px);height: 1px;margin: -1px;overflow: hidden;padding: 0;position: absolute;width: 1px;}#sk-container-id-35 div.sk-estimator {font-family: monospace;background-color: #f0f8ff;border: 1px dotted black;border-radius: 0.25em;box-sizing: border-box;margin-bottom: 0.5em;}#sk-container-id-35 div.sk-estimator:hover {background-color: #d4ebff;}#sk-container-id-35 div.sk-parallel-item::after {content: \"\";width: 100%;border-bottom: 1px solid gray;flex-grow: 1;}#sk-container-id-35 div.sk-label:hover label.sk-toggleable__label {background-color: #d4ebff;}#sk-container-id-35 div.sk-serial::before {content: \"\";position: absolute;border-left: 1px solid gray;box-sizing: border-box;top: 0;bottom: 0;left: 50%;z-index: 0;}#sk-container-id-35 div.sk-serial {display: flex;flex-direction: column;align-items: center;background-color: white;padding-right: 0.2em;padding-left: 0.2em;position: relative;}#sk-container-id-35 div.sk-item {position: relative;z-index: 1;}#sk-container-id-35 div.sk-parallel {display: flex;align-items: stretch;justify-content: center;background-color: white;position: relative;}#sk-container-id-35 div.sk-item::before, #sk-container-id-35 div.sk-parallel-item::before {content: \"\";position: absolute;border-left: 1px solid gray;box-sizing: border-box;top: 0;bottom: 0;left: 50%;z-index: -1;}#sk-container-id-35 div.sk-parallel-item {display: flex;flex-direction: column;z-index: 1;position: relative;background-color: white;}#sk-container-id-35 div.sk-parallel-item:first-child::after {align-self: flex-end;width: 50%;}#sk-container-id-35 div.sk-parallel-item:last-child::after {align-self: flex-start;width: 50%;}#sk-container-id-35 div.sk-parallel-item:only-child::after {width: 0;}#sk-container-id-35 div.sk-dashed-wrapped {border: 1px dashed gray;margin: 0 0.4em 0.5em 0.4em;box-sizing: border-box;padding-bottom: 0.4em;background-color: white;}#sk-container-id-35 div.sk-label label {font-family: monospace;font-weight: bold;display: inline-block;line-height: 1.2em;}#sk-container-id-35 div.sk-label-container {text-align: center;}#sk-container-id-35 div.sk-container {/* jupyter's `normalize.less` sets `[hidden] { display: none; }` but bootstrap.min.css set `[hidden] { display: none !important; }` so we also need the `!important` here to be able to override the default hidden behavior on the sphinx rendered scikit-learn.org. See: https://github.com/scikit-learn/scikit-learn/issues/21755 */display: inline-block !important;position: relative;}#sk-container-id-35 div.sk-text-repr-fallback {display: none;}</style><div id=\"sk-container-id-35\" class=\"sk-top-container\"><div class=\"sk-text-repr-fallback\"><pre>SVC(kernel=&#x27;linear&#x27;)</pre><b>In a Jupyter environment, please rerun this cell to show the HTML representation or trust the notebook. <br />On GitHub, the HTML representation is unable to render, please try loading this page with nbviewer.org.</b></div><div class=\"sk-container\" hidden><div class=\"sk-item\"><div class=\"sk-estimator sk-toggleable\"><input class=\"sk-toggleable__control sk-hidden--visually\" id=\"sk-estimator-id-35\" type=\"checkbox\" checked><label for=\"sk-estimator-id-35\" class=\"sk-toggleable__label sk-toggleable__label-arrow\">SVC</label><div class=\"sk-toggleable__content\"><pre>SVC(kernel=&#x27;linear&#x27;)</pre></div></div></div></div></div>"
            ],
            "text/plain": [
              "SVC(kernel='linear')"
            ]
          },
          "execution_count": 221,
          "metadata": {},
          "output_type": "execute_result"
        }
      ],
      "source": [
        "clf = svm.SVC(kernel='linear' )\n",
        "clf.fit(x_new, y_train[L1])"
      ]
    },
    {
      "cell_type": "code",
      "execution_count": 222,
      "metadata": {
        "id": "QFik6e7XD5fp"
      },
      "outputs": [],
      "source": [
        "y_new_pred = clf.predict(selector.transform(x_valid[L1]))"
      ]
    },
    {
      "cell_type": "markdown",
      "metadata": {
        "id": "BziIbsUbOeJB"
      },
      "source": [
        "## Accuracy After Feature Engineering - SelectKBest"
      ]
    },
    {
      "cell_type": "code",
      "execution_count": 223,
      "metadata": {
        "colab": {
          "base_uri": "https://localhost:8080/"
        },
        "id": "b1sirUK6D70y",
        "outputId": "7244a149-10a2-435c-a1c8-294084ec3d90"
      },
      "outputs": [
        {
          "name": "stdout",
          "output_type": "stream",
          "text": [
            "Accuracy: 0.976\n",
            "Precision: 0.9774185666185666\n",
            "Recall: 0.976\n"
          ]
        }
      ],
      "source": [
        "print(f\"Accuracy: {metrics.accuracy_score(y_valid[L1], y_new_pred)}\")\n",
        "print(f\"Precision: {metrics.precision_score(y_valid[L1], y_new_pred, average='weighted')}\")\n",
        "print(f\"Recall: {metrics.recall_score(y_valid[L1], y_new_pred,average='weighted')}\")"
      ]
    },
    {
      "cell_type": "code",
      "execution_count": 224,
      "metadata": {
        "colab": {
          "base_uri": "https://localhost:8080/",
          "height": 74
        },
        "id": "v4Ld8H4Tu6yG",
        "outputId": "73aa26bb-67e7-4547-cd25-a46ecd77475e"
      },
      "outputs": [
        {
          "data": {
            "text/html": [
              "<style>#sk-container-id-36 {color: black;}#sk-container-id-36 pre{padding: 0;}#sk-container-id-36 div.sk-toggleable {background-color: white;}#sk-container-id-36 label.sk-toggleable__label {cursor: pointer;display: block;width: 100%;margin-bottom: 0;padding: 0.3em;box-sizing: border-box;text-align: center;}#sk-container-id-36 label.sk-toggleable__label-arrow:before {content: \"▸\";float: left;margin-right: 0.25em;color: #696969;}#sk-container-id-36 label.sk-toggleable__label-arrow:hover:before {color: black;}#sk-container-id-36 div.sk-estimator:hover label.sk-toggleable__label-arrow:before {color: black;}#sk-container-id-36 div.sk-toggleable__content {max-height: 0;max-width: 0;overflow: hidden;text-align: left;background-color: #f0f8ff;}#sk-container-id-36 div.sk-toggleable__content pre {margin: 0.2em;color: black;border-radius: 0.25em;background-color: #f0f8ff;}#sk-container-id-36 input.sk-toggleable__control:checked~div.sk-toggleable__content {max-height: 200px;max-width: 100%;overflow: auto;}#sk-container-id-36 input.sk-toggleable__control:checked~label.sk-toggleable__label-arrow:before {content: \"▾\";}#sk-container-id-36 div.sk-estimator input.sk-toggleable__control:checked~label.sk-toggleable__label {background-color: #d4ebff;}#sk-container-id-36 div.sk-label input.sk-toggleable__control:checked~label.sk-toggleable__label {background-color: #d4ebff;}#sk-container-id-36 input.sk-hidden--visually {border: 0;clip: rect(1px 1px 1px 1px);clip: rect(1px, 1px, 1px, 1px);height: 1px;margin: -1px;overflow: hidden;padding: 0;position: absolute;width: 1px;}#sk-container-id-36 div.sk-estimator {font-family: monospace;background-color: #f0f8ff;border: 1px dotted black;border-radius: 0.25em;box-sizing: border-box;margin-bottom: 0.5em;}#sk-container-id-36 div.sk-estimator:hover {background-color: #d4ebff;}#sk-container-id-36 div.sk-parallel-item::after {content: \"\";width: 100%;border-bottom: 1px solid gray;flex-grow: 1;}#sk-container-id-36 div.sk-label:hover label.sk-toggleable__label {background-color: #d4ebff;}#sk-container-id-36 div.sk-serial::before {content: \"\";position: absolute;border-left: 1px solid gray;box-sizing: border-box;top: 0;bottom: 0;left: 50%;z-index: 0;}#sk-container-id-36 div.sk-serial {display: flex;flex-direction: column;align-items: center;background-color: white;padding-right: 0.2em;padding-left: 0.2em;position: relative;}#sk-container-id-36 div.sk-item {position: relative;z-index: 1;}#sk-container-id-36 div.sk-parallel {display: flex;align-items: stretch;justify-content: center;background-color: white;position: relative;}#sk-container-id-36 div.sk-item::before, #sk-container-id-36 div.sk-parallel-item::before {content: \"\";position: absolute;border-left: 1px solid gray;box-sizing: border-box;top: 0;bottom: 0;left: 50%;z-index: -1;}#sk-container-id-36 div.sk-parallel-item {display: flex;flex-direction: column;z-index: 1;position: relative;background-color: white;}#sk-container-id-36 div.sk-parallel-item:first-child::after {align-self: flex-end;width: 50%;}#sk-container-id-36 div.sk-parallel-item:last-child::after {align-self: flex-start;width: 50%;}#sk-container-id-36 div.sk-parallel-item:only-child::after {width: 0;}#sk-container-id-36 div.sk-dashed-wrapped {border: 1px dashed gray;margin: 0 0.4em 0.5em 0.4em;box-sizing: border-box;padding-bottom: 0.4em;background-color: white;}#sk-container-id-36 div.sk-label label {font-family: monospace;font-weight: bold;display: inline-block;line-height: 1.2em;}#sk-container-id-36 div.sk-label-container {text-align: center;}#sk-container-id-36 div.sk-container {/* jupyter's `normalize.less` sets `[hidden] { display: none; }` but bootstrap.min.css set `[hidden] { display: none !important; }` so we also need the `!important` here to be able to override the default hidden behavior on the sphinx rendered scikit-learn.org. See: https://github.com/scikit-learn/scikit-learn/issues/21755 */display: inline-block !important;position: relative;}#sk-container-id-36 div.sk-text-repr-fallback {display: none;}</style><div id=\"sk-container-id-36\" class=\"sk-top-container\"><div class=\"sk-text-repr-fallback\"><pre>PCA(n_components=0.95, svd_solver=&#x27;full&#x27;)</pre><b>In a Jupyter environment, please rerun this cell to show the HTML representation or trust the notebook. <br />On GitHub, the HTML representation is unable to render, please try loading this page with nbviewer.org.</b></div><div class=\"sk-container\" hidden><div class=\"sk-item\"><div class=\"sk-estimator sk-toggleable\"><input class=\"sk-toggleable__control sk-hidden--visually\" id=\"sk-estimator-id-36\" type=\"checkbox\" checked><label for=\"sk-estimator-id-36\" class=\"sk-toggleable__label sk-toggleable__label-arrow\">PCA</label><div class=\"sk-toggleable__content\"><pre>PCA(n_components=0.95, svd_solver=&#x27;full&#x27;)</pre></div></div></div></div></div>"
            ],
            "text/plain": [
              "PCA(n_components=0.95, svd_solver='full')"
            ]
          },
          "execution_count": 224,
          "metadata": {},
          "output_type": "execute_result"
        }
      ],
      "source": [
        "from sklearn.decomposition import PCA\n",
        "pca = PCA(n_components = 0.95, svd_solver ='full')\n",
        "pca.fit(x_train[L1])"
      ]
    },
    {
      "cell_type": "code",
      "execution_count": 225,
      "metadata": {
        "colab": {
          "base_uri": "https://localhost:8080/"
        },
        "id": "EBIAOI9yD-Th",
        "outputId": "d99e462b-ca98-4088-8d80-cb67747907fb"
      },
      "outputs": [
        {
          "name": "stdout",
          "output_type": "stream",
          "text": [
            "(28520, 67) (750, 67)\n"
          ]
        }
      ],
      "source": [
        "\n",
        "x_train_trans = pd.DataFrame(pca.transform(x_train[L1]))\n",
        "x_valid_trans = pd.DataFrame(pca.transform(x_valid[L1]))\n",
        "x_test_pca = pca.transform(x_test[L1])\n",
        "\n",
        "print(x_train_trans.shape, x_valid_trans.shape)"
      ]
    },
    {
      "cell_type": "code",
      "execution_count": 226,
      "metadata": {
        "colab": {
          "base_uri": "https://localhost:8080/",
          "height": 74
        },
        "id": "JlvY62kuEAkB",
        "outputId": "949cf991-a46e-4961-b2d0-aeea635b8da0"
      },
      "outputs": [
        {
          "data": {
            "text/html": [
              "<style>#sk-container-id-37 {color: black;}#sk-container-id-37 pre{padding: 0;}#sk-container-id-37 div.sk-toggleable {background-color: white;}#sk-container-id-37 label.sk-toggleable__label {cursor: pointer;display: block;width: 100%;margin-bottom: 0;padding: 0.3em;box-sizing: border-box;text-align: center;}#sk-container-id-37 label.sk-toggleable__label-arrow:before {content: \"▸\";float: left;margin-right: 0.25em;color: #696969;}#sk-container-id-37 label.sk-toggleable__label-arrow:hover:before {color: black;}#sk-container-id-37 div.sk-estimator:hover label.sk-toggleable__label-arrow:before {color: black;}#sk-container-id-37 div.sk-toggleable__content {max-height: 0;max-width: 0;overflow: hidden;text-align: left;background-color: #f0f8ff;}#sk-container-id-37 div.sk-toggleable__content pre {margin: 0.2em;color: black;border-radius: 0.25em;background-color: #f0f8ff;}#sk-container-id-37 input.sk-toggleable__control:checked~div.sk-toggleable__content {max-height: 200px;max-width: 100%;overflow: auto;}#sk-container-id-37 input.sk-toggleable__control:checked~label.sk-toggleable__label-arrow:before {content: \"▾\";}#sk-container-id-37 div.sk-estimator input.sk-toggleable__control:checked~label.sk-toggleable__label {background-color: #d4ebff;}#sk-container-id-37 div.sk-label input.sk-toggleable__control:checked~label.sk-toggleable__label {background-color: #d4ebff;}#sk-container-id-37 input.sk-hidden--visually {border: 0;clip: rect(1px 1px 1px 1px);clip: rect(1px, 1px, 1px, 1px);height: 1px;margin: -1px;overflow: hidden;padding: 0;position: absolute;width: 1px;}#sk-container-id-37 div.sk-estimator {font-family: monospace;background-color: #f0f8ff;border: 1px dotted black;border-radius: 0.25em;box-sizing: border-box;margin-bottom: 0.5em;}#sk-container-id-37 div.sk-estimator:hover {background-color: #d4ebff;}#sk-container-id-37 div.sk-parallel-item::after {content: \"\";width: 100%;border-bottom: 1px solid gray;flex-grow: 1;}#sk-container-id-37 div.sk-label:hover label.sk-toggleable__label {background-color: #d4ebff;}#sk-container-id-37 div.sk-serial::before {content: \"\";position: absolute;border-left: 1px solid gray;box-sizing: border-box;top: 0;bottom: 0;left: 50%;z-index: 0;}#sk-container-id-37 div.sk-serial {display: flex;flex-direction: column;align-items: center;background-color: white;padding-right: 0.2em;padding-left: 0.2em;position: relative;}#sk-container-id-37 div.sk-item {position: relative;z-index: 1;}#sk-container-id-37 div.sk-parallel {display: flex;align-items: stretch;justify-content: center;background-color: white;position: relative;}#sk-container-id-37 div.sk-item::before, #sk-container-id-37 div.sk-parallel-item::before {content: \"\";position: absolute;border-left: 1px solid gray;box-sizing: border-box;top: 0;bottom: 0;left: 50%;z-index: -1;}#sk-container-id-37 div.sk-parallel-item {display: flex;flex-direction: column;z-index: 1;position: relative;background-color: white;}#sk-container-id-37 div.sk-parallel-item:first-child::after {align-self: flex-end;width: 50%;}#sk-container-id-37 div.sk-parallel-item:last-child::after {align-self: flex-start;width: 50%;}#sk-container-id-37 div.sk-parallel-item:only-child::after {width: 0;}#sk-container-id-37 div.sk-dashed-wrapped {border: 1px dashed gray;margin: 0 0.4em 0.5em 0.4em;box-sizing: border-box;padding-bottom: 0.4em;background-color: white;}#sk-container-id-37 div.sk-label label {font-family: monospace;font-weight: bold;display: inline-block;line-height: 1.2em;}#sk-container-id-37 div.sk-label-container {text-align: center;}#sk-container-id-37 div.sk-container {/* jupyter's `normalize.less` sets `[hidden] { display: none; }` but bootstrap.min.css set `[hidden] { display: none !important; }` so we also need the `!important` here to be able to override the default hidden behavior on the sphinx rendered scikit-learn.org. See: https://github.com/scikit-learn/scikit-learn/issues/21755 */display: inline-block !important;position: relative;}#sk-container-id-37 div.sk-text-repr-fallback {display: none;}</style><div id=\"sk-container-id-37\" class=\"sk-top-container\"><div class=\"sk-text-repr-fallback\"><pre>SVC(kernel=&#x27;linear&#x27;)</pre><b>In a Jupyter environment, please rerun this cell to show the HTML representation or trust the notebook. <br />On GitHub, the HTML representation is unable to render, please try loading this page with nbviewer.org.</b></div><div class=\"sk-container\" hidden><div class=\"sk-item\"><div class=\"sk-estimator sk-toggleable\"><input class=\"sk-toggleable__control sk-hidden--visually\" id=\"sk-estimator-id-37\" type=\"checkbox\" checked><label for=\"sk-estimator-id-37\" class=\"sk-toggleable__label sk-toggleable__label-arrow\">SVC</label><div class=\"sk-toggleable__content\"><pre>SVC(kernel=&#x27;linear&#x27;)</pre></div></div></div></div></div>"
            ],
            "text/plain": [
              "SVC(kernel='linear')"
            ]
          },
          "execution_count": 226,
          "metadata": {},
          "output_type": "execute_result"
        }
      ],
      "source": [
        "clf = svm.SVC(kernel='linear' )\n",
        "clf.fit(x_train_trans, y_train[L1])"
      ]
    },
    {
      "cell_type": "code",
      "execution_count": 227,
      "metadata": {
        "id": "K2D8-wASEBOZ"
      },
      "outputs": [],
      "source": [
        "y_new_trans = clf.predict(x_valid_trans)"
      ]
    },
    {
      "cell_type": "code",
      "execution_count": 228,
      "metadata": {
        "colab": {
          "base_uri": "https://localhost:8080/"
        },
        "id": "o9mH99XbVS8a",
        "outputId": "b6f6841c-5fb4-4d74-c945-9afd607b1dbc"
      },
      "outputs": [
        {
          "name": "stdout",
          "output_type": "stream",
          "text": [
            "Predicted labels after feature engineering: [45 45 45 45 45 45  5  5  5  5  5  5  5  5  5  5  5  5 60 60 60 60 60 60\n",
            " 60 60 19 19 19 19 19 19 19 19 19 19 39 19 19 19 19 19 11 11 11 11 11 11\n",
            " 11 11 11 11 11 11 52 36 52 52 52 52 52 52 52 52 52 25 25 25 25 25 25 25\n",
            " 25 25 25 46 46 46 46 46 46 46 46 46 46 46 46 46 46 46 46 46 46 46 46 51\n",
            " 51 51 51 51 51 51 51 51 51 51 51 51 51 51 51 51 35 35 35 35 35 35 35 35\n",
            " 56 56 56 56 56 56 56 56 56 56 56 53 53 53 53 53 55 22 53 53 53  3  3  3\n",
            "  3  3  3  3  3  3  3 40 40 40 40 40 40 40 40 40 40 40 40 40 40 40 43 43\n",
            " 43 43 43 43 43 43 43 43 43 36 58 58 58 58 58 58 58 44 44 44 44 44 44 44\n",
            " 44 44 44 44 44 44 44 37 37 37 37 37 37 37 37 37 37 37 37 14 37 37 37 37\n",
            " 55 55 55 55 55 55 55 55 55 55 55 55 55 55 55 55 55 17  2 17 24 17 17 17\n",
            " 17 17 17 17 17 17  2  2  2  2  2  2  2  2  2  2  2  2 47 47 47 47 47 47\n",
            " 47 47 47 26 47 47 47 54 54 54 54 54 54 54 54 54 54 54 21 21 21 21 21 21\n",
            " 21 21 21 21 21 21 34 27 34 34 34 34 34 34 34 23 23 23 23 23 23 23 23 23\n",
            " 23 23 23 23 10 10 10 10  2 10 10 10 10 10 10 28 28 28 28 28 28 28 28 28\n",
            " 28 28 28 28 28 28 20 20 20 20 20 20 20 20 20 20 20 20  7  7  7  7  7  7\n",
            "  7  7  7  7  6  6  6  6  6  6  6  6  6  6  6  6  4  4  4  4  4  4  4  4\n",
            "  4  4 48 48 48 48 48 48 48 48 48 32 32 32 32 32 32 32 32 32 32 32 32 32\n",
            " 32 32 32 12 12 12 12 12 12 12 12 22 22 22 22 22 22 22 22 22 22 22 22 22\n",
            " 38 38 38 38 38 38 38 38 38 38 38 38 38 36 36 36 36 36 36 47 36 36 36 36\n",
            " 36 36 36 36 59 59 59 59 59 59 59 59 59 59 59 50 50 50 50 50 50 23 50 50\n",
            " 50 50 50 50 50 50 50 50 50 50 50 50 14 14  8 14 14 14 14 15 15 15 15 15\n",
            " 49 15 15 15 15 15 15 24 24 24 24 24 24 13 13 13 13 13 13 13 13 13 13 13\n",
            " 13 29 29 29 29 29 29 25 29 29 29 51 29 29 29 29 29 18 18 18 18 18 18 18\n",
            " 18 18 18 18 18 18 18 18 18  1  1  1  1  1  1  1  1  1  1  9  9  9  9  9\n",
            "  9  9  9  9 49 49 49 49 49 49 49 49 49 49 49 27 27 27 27 27 27 27 27 27\n",
            " 27 27 27 27 27 42 42 42 42 42 55 42 42 42 26 26 26 26 26 26 26 26 26 26\n",
            " 41 41 41 41 41 41 41 41 41 41 57 57 57 57 57 57 57 57 57 57 57 57 57 57\n",
            " 57 57 57  8  8  8  8  8  8  8  8  8  8  8  8  8  8 35 33 33 33 33 33 33\n",
            " 33 33 33 33 33 33 33 33 33 55 31 31 31 31 31 31 31 31 31 31 31 31 31 31\n",
            " 31 31 31 31 16 16 16 16 16 16 16 16 16 16 16 16 16 16 16 16 16 16 16 30\n",
            " 30 30 30 30 30 30 30 30 30 30 30 30 30 30 30 39 39 39 39 39 39 39 39 39\n",
            " 39 39 39 39 39 39]\n"
          ]
        }
      ],
      "source": [
        "y_pred_test_after_L1 = clf.predict(x_test_pca)\n",
        "print('Predicted labels after feature engineering:', y_pred_test_after_L1)"
      ]
    },
    {
      "cell_type": "markdown",
      "metadata": {
        "id": "ZhwHHekJvi_u"
      },
      "source": [
        "selected features writing"
      ]
    },
    {
      "cell_type": "code",
      "execution_count": 229,
      "metadata": {
        "colab": {
          "base_uri": "https://localhost:8080/",
          "height": 325
        },
        "id": "AOtsNFfAVXSq",
        "outputId": "d2abf57a-599e-4c1f-afa2-90ac2d5c4b85"
      },
      "outputs": [
        {
          "data": {
            "text/html": [
              "<div>\n",
              "<style scoped>\n",
              "    .dataframe tbody tr th:only-of-type {\n",
              "        vertical-align: middle;\n",
              "    }\n",
              "\n",
              "    .dataframe tbody tr th {\n",
              "        vertical-align: top;\n",
              "    }\n",
              "\n",
              "    .dataframe thead th {\n",
              "        text-align: right;\n",
              "    }\n",
              "</style>\n",
              "<table border=\"1\" class=\"dataframe\">\n",
              "  <thead>\n",
              "    <tr style=\"text-align: right;\">\n",
              "      <th></th>\n",
              "      <th>Predicted labels before feature engineering</th>\n",
              "      <th>Predicted labels after feature engineering</th>\n",
              "      <th>No. of new features</th>\n",
              "      <th>New feature 1</th>\n",
              "      <th>New feature 2</th>\n",
              "      <th>New feature 3</th>\n",
              "      <th>New feature 4</th>\n",
              "      <th>New feature 5</th>\n",
              "      <th>New feature 6</th>\n",
              "      <th>New feature 7</th>\n",
              "      <th>...</th>\n",
              "      <th>New feature 58</th>\n",
              "      <th>New feature 59</th>\n",
              "      <th>New feature 60</th>\n",
              "      <th>New feature 61</th>\n",
              "      <th>New feature 62</th>\n",
              "      <th>New feature 63</th>\n",
              "      <th>New feature 64</th>\n",
              "      <th>New feature 65</th>\n",
              "      <th>New feature 66</th>\n",
              "      <th>New feature 67</th>\n",
              "    </tr>\n",
              "  </thead>\n",
              "  <tbody>\n",
              "    <tr>\n",
              "      <th>0</th>\n",
              "      <td>45</td>\n",
              "      <td>45</td>\n",
              "      <td>67</td>\n",
              "      <td>-1.967567</td>\n",
              "      <td>6.945703</td>\n",
              "      <td>-3.947321</td>\n",
              "      <td>-1.108198</td>\n",
              "      <td>-6.440248</td>\n",
              "      <td>-1.053785</td>\n",
              "      <td>3.471608</td>\n",
              "      <td>...</td>\n",
              "      <td>0.578949</td>\n",
              "      <td>-1.740188</td>\n",
              "      <td>-0.118466</td>\n",
              "      <td>1.373034</td>\n",
              "      <td>1.198465</td>\n",
              "      <td>0.701518</td>\n",
              "      <td>-0.092956</td>\n",
              "      <td>-0.961733</td>\n",
              "      <td>-1.577341</td>\n",
              "      <td>0.453901</td>\n",
              "    </tr>\n",
              "    <tr>\n",
              "      <th>1</th>\n",
              "      <td>45</td>\n",
              "      <td>45</td>\n",
              "      <td>67</td>\n",
              "      <td>-6.692310</td>\n",
              "      <td>8.884467</td>\n",
              "      <td>-0.489867</td>\n",
              "      <td>-10.240206</td>\n",
              "      <td>-4.576115</td>\n",
              "      <td>2.229018</td>\n",
              "      <td>-2.025519</td>\n",
              "      <td>...</td>\n",
              "      <td>-0.430111</td>\n",
              "      <td>1.420051</td>\n",
              "      <td>-0.984095</td>\n",
              "      <td>0.078896</td>\n",
              "      <td>-0.163620</td>\n",
              "      <td>1.022940</td>\n",
              "      <td>1.326354</td>\n",
              "      <td>0.892220</td>\n",
              "      <td>-0.054520</td>\n",
              "      <td>-0.060989</td>\n",
              "    </tr>\n",
              "    <tr>\n",
              "      <th>2</th>\n",
              "      <td>45</td>\n",
              "      <td>45</td>\n",
              "      <td>67</td>\n",
              "      <td>-4.810155</td>\n",
              "      <td>3.547653</td>\n",
              "      <td>-0.297522</td>\n",
              "      <td>-5.550987</td>\n",
              "      <td>-2.225314</td>\n",
              "      <td>-1.305231</td>\n",
              "      <td>-0.434514</td>\n",
              "      <td>...</td>\n",
              "      <td>-0.623699</td>\n",
              "      <td>-0.565450</td>\n",
              "      <td>-0.924432</td>\n",
              "      <td>-0.114114</td>\n",
              "      <td>-0.526053</td>\n",
              "      <td>-0.612581</td>\n",
              "      <td>0.770387</td>\n",
              "      <td>0.258546</td>\n",
              "      <td>-0.176509</td>\n",
              "      <td>-0.049412</td>\n",
              "    </tr>\n",
              "    <tr>\n",
              "      <th>3</th>\n",
              "      <td>45</td>\n",
              "      <td>45</td>\n",
              "      <td>67</td>\n",
              "      <td>-2.185614</td>\n",
              "      <td>5.993099</td>\n",
              "      <td>-1.089448</td>\n",
              "      <td>-0.938549</td>\n",
              "      <td>2.566186</td>\n",
              "      <td>4.411621</td>\n",
              "      <td>0.475160</td>\n",
              "      <td>...</td>\n",
              "      <td>0.828342</td>\n",
              "      <td>-0.924356</td>\n",
              "      <td>0.728764</td>\n",
              "      <td>-0.928061</td>\n",
              "      <td>0.356018</td>\n",
              "      <td>0.039349</td>\n",
              "      <td>-1.203948</td>\n",
              "      <td>0.575542</td>\n",
              "      <td>1.194812</td>\n",
              "      <td>-0.065328</td>\n",
              "    </tr>\n",
              "    <tr>\n",
              "      <th>4</th>\n",
              "      <td>45</td>\n",
              "      <td>45</td>\n",
              "      <td>67</td>\n",
              "      <td>0.695696</td>\n",
              "      <td>6.181181</td>\n",
              "      <td>1.442544</td>\n",
              "      <td>-3.112025</td>\n",
              "      <td>-2.881196</td>\n",
              "      <td>-1.171098</td>\n",
              "      <td>1.626019</td>\n",
              "      <td>...</td>\n",
              "      <td>-0.643171</td>\n",
              "      <td>0.046833</td>\n",
              "      <td>-0.774574</td>\n",
              "      <td>0.500928</td>\n",
              "      <td>0.716768</td>\n",
              "      <td>-0.848316</td>\n",
              "      <td>0.289207</td>\n",
              "      <td>1.111349</td>\n",
              "      <td>0.781681</td>\n",
              "      <td>0.461655</td>\n",
              "    </tr>\n",
              "  </tbody>\n",
              "</table>\n",
              "<p>5 rows × 70 columns</p>\n",
              "</div>"
            ],
            "text/plain": [
              "   Predicted labels before feature engineering  \\\n",
              "0                                           45   \n",
              "1                                           45   \n",
              "2                                           45   \n",
              "3                                           45   \n",
              "4                                           45   \n",
              "\n",
              "   Predicted labels after feature engineering  No. of new features  \\\n",
              "0                                          45                   67   \n",
              "1                                          45                   67   \n",
              "2                                          45                   67   \n",
              "3                                          45                   67   \n",
              "4                                          45                   67   \n",
              "\n",
              "   New feature 1  New feature 2  New feature 3  New feature 4  New feature 5  \\\n",
              "0      -1.967567       6.945703      -3.947321      -1.108198      -6.440248   \n",
              "1      -6.692310       8.884467      -0.489867     -10.240206      -4.576115   \n",
              "2      -4.810155       3.547653      -0.297522      -5.550987      -2.225314   \n",
              "3      -2.185614       5.993099      -1.089448      -0.938549       2.566186   \n",
              "4       0.695696       6.181181       1.442544      -3.112025      -2.881196   \n",
              "\n",
              "   New feature 6  New feature 7  ...  New feature 58  New feature 59  \\\n",
              "0      -1.053785       3.471608  ...        0.578949       -1.740188   \n",
              "1       2.229018      -2.025519  ...       -0.430111        1.420051   \n",
              "2      -1.305231      -0.434514  ...       -0.623699       -0.565450   \n",
              "3       4.411621       0.475160  ...        0.828342       -0.924356   \n",
              "4      -1.171098       1.626019  ...       -0.643171        0.046833   \n",
              "\n",
              "   New feature 60  New feature 61  New feature 62  New feature 63  \\\n",
              "0       -0.118466        1.373034        1.198465        0.701518   \n",
              "1       -0.984095        0.078896       -0.163620        1.022940   \n",
              "2       -0.924432       -0.114114       -0.526053       -0.612581   \n",
              "3        0.728764       -0.928061        0.356018        0.039349   \n",
              "4       -0.774574        0.500928        0.716768       -0.848316   \n",
              "\n",
              "   New feature 64  New feature 65  New feature 66  New feature 67  \n",
              "0       -0.092956       -0.961733       -1.577341        0.453901  \n",
              "1        1.326354        0.892220       -0.054520       -0.060989  \n",
              "2        0.770387        0.258546       -0.176509       -0.049412  \n",
              "3       -1.203948        0.575542        1.194812       -0.065328  \n",
              "4        0.289207        1.111349        0.781681        0.461655  \n",
              "\n",
              "[5 rows x 70 columns]"
            ]
          },
          "execution_count": 229,
          "metadata": {},
          "output_type": "execute_result"
        }
      ],
      "source": [
        "output_df = pd.DataFrame({\n",
        "    'Predicted labels before feature engineering': y_pred_test_before_L1,\n",
        "    'Predicted labels after feature engineering': y_pred_test_after_L1,\n",
        "    'No. of new features': x_test_pca.shape[1]\n",
        "})\n",
        "\n",
        "\n",
        "for i in range(x_test_pca.shape[1]):\n",
        "  output_df[f'New feature {i+1}'] = x_test_pca[:, i]\n",
        "\n",
        "output_df.head()"
      ]
    },
    {
      "cell_type": "code",
      "execution_count": 230,
      "metadata": {
        "id": "AYsgzsrNVc7Z"
      },
      "outputs": [],
      "source": [
        "# Save the DataFrame to the specified CSV file path\n",
        "output_df.to_csv(f\"output/190394R_label_1.csv\", index=False)"
      ]
    },
    {
      "cell_type": "markdown",
      "metadata": {
        "id": "TppR5Bj1Olja"
      },
      "source": [
        "## Accuracy After Feature Engineering - PCA"
      ]
    },
    {
      "cell_type": "code",
      "execution_count": 231,
      "metadata": {
        "colab": {
          "base_uri": "https://localhost:8080/"
        },
        "id": "RYn_a-_GEDL8",
        "outputId": "cfdb87ef-6ca8-4042-842c-2885ba8b2ccf"
      },
      "outputs": [
        {
          "name": "stdout",
          "output_type": "stream",
          "text": [
            "Accuracy: 0.9813333333333333\n",
            "Precision: 0.9835733337182255\n",
            "Recall: 0.9813333333333333\n"
          ]
        }
      ],
      "source": [
        "print(f\"Accuracy: {metrics.accuracy_score(y_valid[L1], y_new_trans)}\")\n",
        "print(f\"Precision: {metrics.precision_score(y_valid[L1], y_new_trans, average='weighted')}\")\n",
        "print(f\"Recall: {metrics.recall_score(y_valid[L1], y_new_trans,average='weighted')}\")"
      ]
    },
    {
      "cell_type": "markdown",
      "metadata": {
        "id": "uiq1hzqzE9Df"
      },
      "source": [
        "# Label_2"
      ]
    },
    {
      "cell_type": "code",
      "execution_count": 232,
      "metadata": {
        "id": "Sk-vdu7yF0rw"
      },
      "outputs": [],
      "source": [
        "from sklearn.neighbors import KNeighborsClassifier\n",
        "k = 5  # Number of neighbors\n",
        "knn_classifier = KNeighborsClassifier(n_neighbors=k)"
      ]
    },
    {
      "cell_type": "code",
      "execution_count": 233,
      "metadata": {
        "colab": {
          "base_uri": "https://localhost:8080/",
          "height": 74
        },
        "id": "0A8Yr-54GUyu",
        "outputId": "a1a11fd5-77e3-4fc5-9993-e2175ca1f689"
      },
      "outputs": [
        {
          "data": {
            "text/html": [
              "<style>#sk-container-id-38 {color: black;}#sk-container-id-38 pre{padding: 0;}#sk-container-id-38 div.sk-toggleable {background-color: white;}#sk-container-id-38 label.sk-toggleable__label {cursor: pointer;display: block;width: 100%;margin-bottom: 0;padding: 0.3em;box-sizing: border-box;text-align: center;}#sk-container-id-38 label.sk-toggleable__label-arrow:before {content: \"▸\";float: left;margin-right: 0.25em;color: #696969;}#sk-container-id-38 label.sk-toggleable__label-arrow:hover:before {color: black;}#sk-container-id-38 div.sk-estimator:hover label.sk-toggleable__label-arrow:before {color: black;}#sk-container-id-38 div.sk-toggleable__content {max-height: 0;max-width: 0;overflow: hidden;text-align: left;background-color: #f0f8ff;}#sk-container-id-38 div.sk-toggleable__content pre {margin: 0.2em;color: black;border-radius: 0.25em;background-color: #f0f8ff;}#sk-container-id-38 input.sk-toggleable__control:checked~div.sk-toggleable__content {max-height: 200px;max-width: 100%;overflow: auto;}#sk-container-id-38 input.sk-toggleable__control:checked~label.sk-toggleable__label-arrow:before {content: \"▾\";}#sk-container-id-38 div.sk-estimator input.sk-toggleable__control:checked~label.sk-toggleable__label {background-color: #d4ebff;}#sk-container-id-38 div.sk-label input.sk-toggleable__control:checked~label.sk-toggleable__label {background-color: #d4ebff;}#sk-container-id-38 input.sk-hidden--visually {border: 0;clip: rect(1px 1px 1px 1px);clip: rect(1px, 1px, 1px, 1px);height: 1px;margin: -1px;overflow: hidden;padding: 0;position: absolute;width: 1px;}#sk-container-id-38 div.sk-estimator {font-family: monospace;background-color: #f0f8ff;border: 1px dotted black;border-radius: 0.25em;box-sizing: border-box;margin-bottom: 0.5em;}#sk-container-id-38 div.sk-estimator:hover {background-color: #d4ebff;}#sk-container-id-38 div.sk-parallel-item::after {content: \"\";width: 100%;border-bottom: 1px solid gray;flex-grow: 1;}#sk-container-id-38 div.sk-label:hover label.sk-toggleable__label {background-color: #d4ebff;}#sk-container-id-38 div.sk-serial::before {content: \"\";position: absolute;border-left: 1px solid gray;box-sizing: border-box;top: 0;bottom: 0;left: 50%;z-index: 0;}#sk-container-id-38 div.sk-serial {display: flex;flex-direction: column;align-items: center;background-color: white;padding-right: 0.2em;padding-left: 0.2em;position: relative;}#sk-container-id-38 div.sk-item {position: relative;z-index: 1;}#sk-container-id-38 div.sk-parallel {display: flex;align-items: stretch;justify-content: center;background-color: white;position: relative;}#sk-container-id-38 div.sk-item::before, #sk-container-id-38 div.sk-parallel-item::before {content: \"\";position: absolute;border-left: 1px solid gray;box-sizing: border-box;top: 0;bottom: 0;left: 50%;z-index: -1;}#sk-container-id-38 div.sk-parallel-item {display: flex;flex-direction: column;z-index: 1;position: relative;background-color: white;}#sk-container-id-38 div.sk-parallel-item:first-child::after {align-self: flex-end;width: 50%;}#sk-container-id-38 div.sk-parallel-item:last-child::after {align-self: flex-start;width: 50%;}#sk-container-id-38 div.sk-parallel-item:only-child::after {width: 0;}#sk-container-id-38 div.sk-dashed-wrapped {border: 1px dashed gray;margin: 0 0.4em 0.5em 0.4em;box-sizing: border-box;padding-bottom: 0.4em;background-color: white;}#sk-container-id-38 div.sk-label label {font-family: monospace;font-weight: bold;display: inline-block;line-height: 1.2em;}#sk-container-id-38 div.sk-label-container {text-align: center;}#sk-container-id-38 div.sk-container {/* jupyter's `normalize.less` sets `[hidden] { display: none; }` but bootstrap.min.css set `[hidden] { display: none !important; }` so we also need the `!important` here to be able to override the default hidden behavior on the sphinx rendered scikit-learn.org. See: https://github.com/scikit-learn/scikit-learn/issues/21755 */display: inline-block !important;position: relative;}#sk-container-id-38 div.sk-text-repr-fallback {display: none;}</style><div id=\"sk-container-id-38\" class=\"sk-top-container\"><div class=\"sk-text-repr-fallback\"><pre>KNeighborsClassifier()</pre><b>In a Jupyter environment, please rerun this cell to show the HTML representation or trust the notebook. <br />On GitHub, the HTML representation is unable to render, please try loading this page with nbviewer.org.</b></div><div class=\"sk-container\" hidden><div class=\"sk-item\"><div class=\"sk-estimator sk-toggleable\"><input class=\"sk-toggleable__control sk-hidden--visually\" id=\"sk-estimator-id-38\" type=\"checkbox\" checked><label for=\"sk-estimator-id-38\" class=\"sk-toggleable__label sk-toggleable__label-arrow\">KNeighborsClassifier</label><div class=\"sk-toggleable__content\"><pre>KNeighborsClassifier()</pre></div></div></div></div></div>"
            ],
            "text/plain": [
              "KNeighborsClassifier()"
            ]
          },
          "execution_count": 233,
          "metadata": {},
          "output_type": "execute_result"
        }
      ],
      "source": [
        "knn_classifier.fit(x_train[L2], y_train[L2])"
      ]
    },
    {
      "cell_type": "code",
      "execution_count": 234,
      "metadata": {},
      "outputs": [
        {
          "data": {
            "text/plain": [
              "(750, 256)"
            ]
          },
          "execution_count": 234,
          "metadata": {},
          "output_type": "execute_result"
        }
      ],
      "source": [
        "x_test[L2].shape"
      ]
    },
    {
      "cell_type": "code",
      "execution_count": 235,
      "metadata": {
        "id": "-mrvB7K6GaDZ"
      },
      "outputs": [
        {
          "name": "stderr",
          "output_type": "stream",
          "text": [
            "c:\\Python311\\Lib\\site-packages\\sklearn\\base.py:464: UserWarning: X does not have valid feature names, but KNeighborsClassifier was fitted with feature names\n",
            "  warnings.warn(\n",
            "c:\\Python311\\Lib\\site-packages\\sklearn\\base.py:464: UserWarning: X does not have valid feature names, but KNeighborsClassifier was fitted with feature names\n",
            "  warnings.warn(\n"
          ]
        }
      ],
      "source": [
        "y_pred = knn_classifier.predict(np.array(x_valid[L2]))\n",
        "y_pred_test_before_L2 = knn_classifier.predict(np.array(x_test[L2]))"
      ]
    },
    {
      "cell_type": "markdown",
      "metadata": {
        "id": "RpVGxfPbOz7G"
      },
      "source": [
        "## Accuracy Before Feature Engineering"
      ]
    },
    {
      "cell_type": "code",
      "execution_count": 236,
      "metadata": {
        "colab": {
          "base_uri": "https://localhost:8080/"
        },
        "id": "hyh4gOwrGc_7",
        "outputId": "d3ed8414-5e85-4b1e-deae-a739478e945f"
      },
      "outputs": [
        {
          "name": "stdout",
          "output_type": "stream",
          "text": [
            "Accuracy: 0.9877717391304348\n",
            "Precision: 0.9880671083222579\n",
            "Recall: 0.9877717391304348\n"
          ]
        }
      ],
      "source": [
        "from sklearn import metrics\n",
        "print(f\"Accuracy: {metrics.accuracy_score(y_valid[L2], y_pred)}\")\n",
        "print(f\"Precision: {metrics.precision_score(y_valid[L2], y_pred, average='weighted')}\")\n",
        "print(f\"Recall: {metrics.recall_score(y_valid[L2], y_pred,average='weighted')}\")"
      ]
    },
    {
      "cell_type": "code",
      "execution_count": 237,
      "metadata": {
        "colab": {
          "base_uri": "https://localhost:8080/"
        },
        "id": "LuSmcERJGeKR",
        "outputId": "f277186f-dbe6-4fda-f674-6c20ded081db"
      },
      "outputs": [],
      "source": [
        "#Feature Selection\n",
        "pca = PCA(n_components = 0.85, svd_solver ='full')\n",
        "pca.fit(x_train[L2])\n",
        "x_train_trans = pd.DataFrame(pca.transform(x_train[L2]))\n",
        "x_valid_trans = pd.DataFrame(pca.transform(x_valid[L2]))\n",
        "x_test_pca = pca.transform(x_test[L2])"
      ]
    },
    {
      "cell_type": "code",
      "execution_count": 238,
      "metadata": {},
      "outputs": [
        {
          "data": {
            "text/plain": [
              "(750, 39)"
            ]
          },
          "execution_count": 238,
          "metadata": {},
          "output_type": "execute_result"
        }
      ],
      "source": [
        "x_test_pca.shape"
      ]
    },
    {
      "cell_type": "code",
      "execution_count": 239,
      "metadata": {
        "id": "Go5Q0zDSSPHk"
      },
      "outputs": [
        {
          "name": "stdout",
          "output_type": "stream",
          "text": [
            "(28040, 39) (736, 39)\n"
          ]
        }
      ],
      "source": [
        "\n",
        "print(x_train_trans.shape, x_valid_trans.shape)"
      ]
    },
    {
      "cell_type": "code",
      "execution_count": 240,
      "metadata": {
        "colab": {
          "base_uri": "https://localhost:8080/",
          "height": 74
        },
        "id": "n6ecDKryGtQV",
        "outputId": "aa194850-32d4-451c-8870-79f7f5c89a8d"
      },
      "outputs": [
        {
          "data": {
            "text/html": [
              "<style>#sk-container-id-39 {color: black;}#sk-container-id-39 pre{padding: 0;}#sk-container-id-39 div.sk-toggleable {background-color: white;}#sk-container-id-39 label.sk-toggleable__label {cursor: pointer;display: block;width: 100%;margin-bottom: 0;padding: 0.3em;box-sizing: border-box;text-align: center;}#sk-container-id-39 label.sk-toggleable__label-arrow:before {content: \"▸\";float: left;margin-right: 0.25em;color: #696969;}#sk-container-id-39 label.sk-toggleable__label-arrow:hover:before {color: black;}#sk-container-id-39 div.sk-estimator:hover label.sk-toggleable__label-arrow:before {color: black;}#sk-container-id-39 div.sk-toggleable__content {max-height: 0;max-width: 0;overflow: hidden;text-align: left;background-color: #f0f8ff;}#sk-container-id-39 div.sk-toggleable__content pre {margin: 0.2em;color: black;border-radius: 0.25em;background-color: #f0f8ff;}#sk-container-id-39 input.sk-toggleable__control:checked~div.sk-toggleable__content {max-height: 200px;max-width: 100%;overflow: auto;}#sk-container-id-39 input.sk-toggleable__control:checked~label.sk-toggleable__label-arrow:before {content: \"▾\";}#sk-container-id-39 div.sk-estimator input.sk-toggleable__control:checked~label.sk-toggleable__label {background-color: #d4ebff;}#sk-container-id-39 div.sk-label input.sk-toggleable__control:checked~label.sk-toggleable__label {background-color: #d4ebff;}#sk-container-id-39 input.sk-hidden--visually {border: 0;clip: rect(1px 1px 1px 1px);clip: rect(1px, 1px, 1px, 1px);height: 1px;margin: -1px;overflow: hidden;padding: 0;position: absolute;width: 1px;}#sk-container-id-39 div.sk-estimator {font-family: monospace;background-color: #f0f8ff;border: 1px dotted black;border-radius: 0.25em;box-sizing: border-box;margin-bottom: 0.5em;}#sk-container-id-39 div.sk-estimator:hover {background-color: #d4ebff;}#sk-container-id-39 div.sk-parallel-item::after {content: \"\";width: 100%;border-bottom: 1px solid gray;flex-grow: 1;}#sk-container-id-39 div.sk-label:hover label.sk-toggleable__label {background-color: #d4ebff;}#sk-container-id-39 div.sk-serial::before {content: \"\";position: absolute;border-left: 1px solid gray;box-sizing: border-box;top: 0;bottom: 0;left: 50%;z-index: 0;}#sk-container-id-39 div.sk-serial {display: flex;flex-direction: column;align-items: center;background-color: white;padding-right: 0.2em;padding-left: 0.2em;position: relative;}#sk-container-id-39 div.sk-item {position: relative;z-index: 1;}#sk-container-id-39 div.sk-parallel {display: flex;align-items: stretch;justify-content: center;background-color: white;position: relative;}#sk-container-id-39 div.sk-item::before, #sk-container-id-39 div.sk-parallel-item::before {content: \"\";position: absolute;border-left: 1px solid gray;box-sizing: border-box;top: 0;bottom: 0;left: 50%;z-index: -1;}#sk-container-id-39 div.sk-parallel-item {display: flex;flex-direction: column;z-index: 1;position: relative;background-color: white;}#sk-container-id-39 div.sk-parallel-item:first-child::after {align-self: flex-end;width: 50%;}#sk-container-id-39 div.sk-parallel-item:last-child::after {align-self: flex-start;width: 50%;}#sk-container-id-39 div.sk-parallel-item:only-child::after {width: 0;}#sk-container-id-39 div.sk-dashed-wrapped {border: 1px dashed gray;margin: 0 0.4em 0.5em 0.4em;box-sizing: border-box;padding-bottom: 0.4em;background-color: white;}#sk-container-id-39 div.sk-label label {font-family: monospace;font-weight: bold;display: inline-block;line-height: 1.2em;}#sk-container-id-39 div.sk-label-container {text-align: center;}#sk-container-id-39 div.sk-container {/* jupyter's `normalize.less` sets `[hidden] { display: none; }` but bootstrap.min.css set `[hidden] { display: none !important; }` so we also need the `!important` here to be able to override the default hidden behavior on the sphinx rendered scikit-learn.org. See: https://github.com/scikit-learn/scikit-learn/issues/21755 */display: inline-block !important;position: relative;}#sk-container-id-39 div.sk-text-repr-fallback {display: none;}</style><div id=\"sk-container-id-39\" class=\"sk-top-container\"><div class=\"sk-text-repr-fallback\"><pre>KNeighborsClassifier()</pre><b>In a Jupyter environment, please rerun this cell to show the HTML representation or trust the notebook. <br />On GitHub, the HTML representation is unable to render, please try loading this page with nbviewer.org.</b></div><div class=\"sk-container\" hidden><div class=\"sk-item\"><div class=\"sk-estimator sk-toggleable\"><input class=\"sk-toggleable__control sk-hidden--visually\" id=\"sk-estimator-id-39\" type=\"checkbox\" checked><label for=\"sk-estimator-id-39\" class=\"sk-toggleable__label sk-toggleable__label-arrow\">KNeighborsClassifier</label><div class=\"sk-toggleable__content\"><pre>KNeighborsClassifier()</pre></div></div></div></div></div>"
            ],
            "text/plain": [
              "KNeighborsClassifier()"
            ]
          },
          "execution_count": 240,
          "metadata": {},
          "output_type": "execute_result"
        }
      ],
      "source": [
        "knn_classifier.fit(x_train_trans, y_train[L2])"
      ]
    },
    {
      "cell_type": "code",
      "execution_count": 241,
      "metadata": {
        "id": "nFyp2qiZGvZe"
      },
      "outputs": [],
      "source": [
        "y_pred = knn_classifier.predict(np.array(x_valid_trans))"
      ]
    },
    {
      "cell_type": "code",
      "execution_count": 242,
      "metadata": {
        "colab": {
          "base_uri": "https://localhost:8080/"
        },
        "id": "uQF7optjV7Wy",
        "outputId": "e0b9b378-f1a6-47de-83e3-1a954cbc7d57"
      },
      "outputs": [
        {
          "name": "stdout",
          "output_type": "stream",
          "text": [
            "Predicted labels after feature engineering: [26. 31. 30. 27. 31. 23. 25. 25. 25. 25. 25. 25. 25. 25. 25. 25. 25. 25.\n",
            " 27. 27. 27. 27. 27. 27. 27. 22. 23. 23. 23. 23. 23. 23. 23. 23. 23. 23.\n",
            " 23. 23. 26. 23. 23. 23. 33. 33. 33. 33. 33. 33. 33. 33. 33. 33. 33. 33.\n",
            " 34. 34. 34. 34. 34. 34. 34. 34. 34. 34. 34. 22. 22. 22. 22. 22. 22. 22.\n",
            " 22. 22. 22. 30. 30. 30. 30. 30. 30. 30. 30. 30. 30. 30. 30. 30. 30. 30.\n",
            " 30. 30. 30. 30. 30. 26. 26. 26. 26. 26. 26. 26. 26. 26. 26. 26. 26. 26.\n",
            " 26. 26. 26. 26. 24. 24. 24. 24. 24. 24. 24. 24. 24. 24. 24. 24. 24. 24.\n",
            " 24. 24. 24. 24. 24. 24. 24. 24. 24. 24. 24. 24. 33. 24. 24. 31. 31. 31.\n",
            " 31. 31. 31. 31. 31. 31. 31. 26. 26. 26. 26. 26. 26. 26. 26. 26. 26. 26.\n",
            " 26. 26. 26. 26. 31. 31. 31. 31. 31. 31. 31. 31. 31. 31. 31. 29. 29. 29.\n",
            " 29. 29. 29. 29. 29. 61. 61. 61. 61. 61. 61. 61. 61. 61. 61. 61. 61. 61.\n",
            " 61. 27. 27. 27. 27. 27. 27. 27. 27. 27. 27. 27. 27. 31. 27. 27. 27. 27.\n",
            " 23. 23. 23. 23. 23. 23. 23. 23. 23. 23. 23. 28. 26. 23. 23. 26. 23. 26.\n",
            " 26. 26. 26. 26. 26. 26. 26. 26. 26. 26. 26. 26. 25. 25. 25. 25. 25. 25.\n",
            " 25. 25. 25. 36. 25. 25. 23. 23. 23. 23. 23. 23. 23. 23. 23. 23. 23. 23.\n",
            " 23. 27. 27. 27. 27. 27. 27. 27. 27. 27. 27. 27. 26. 26. 26. 27. 26. 26.\n",
            " 26. 26. 26. 26. 26. 26. 25. 25. 25. 25. 25. 25. 25. 25. 25. 28. 28. 28.\n",
            " 28. 28. 28. 28. 28. 28. 28. 28. 28. 28. 36. 36. 36. 36. 36. 36. 36. 36.\n",
            " 36. 36. 36. 28. 28. 28. 28. 28. 28. 28. 28. 28. 28. 28. 28. 28. 28. 28.\n",
            " 25. 25. 25. 25. 25. 25. 25. 25. 25. 25. 25. 25. 27. 27. 27. 27. 27. 27.\n",
            " 27. 27. 27. 27. 25. 25. 25. 25. 25. 25. 25. 25. 25. 25. 25. 25. 23. 23.\n",
            " 23. 23. 23. 23. 23. 23. 23. 23. 26. 26. 26. 26. 26. 26. 26. 26. 26. 23.\n",
            " 23. 23. 23. 23. 23. 23. 23. 23. 23. 23. 23. 23. 23. 23. 23. 26. 26. 26.\n",
            " 26. 26. 26. 26. 26. 33. 33. 33. 33. 33. 33. 33. 33. 33. 33. 33. 33. 33.\n",
            " 32. 32. 31. 32. 32. 32. 32. 32. 32. 32. 32. 32. 32. 22. 22. 22. 22. 22.\n",
            " 22. 22. 22. 22. 22. 22. 22. 22. 22. 22. 31. 31. 31. 31. 31. 31. 31. 31.\n",
            " 31. 31. 31. 24. 24. 24. 24. 24. 24. 24. 24. 24. 24. 24. 24. 24. 24. 24.\n",
            " 24. 24. 24. 24. 24. 24. 27. 31. 31. 31. 31. 31. 25. 28. 28. 28. 28. 28.\n",
            " 28. 28. 28. 28. 28. 28. 28. 26. 26. 26. 26. 26. 26. 27. 27. 27. 27. 27.\n",
            " 27. 27. 27. 27. 27. 27. 27. 23. 23. 23. 23. 23. 23. 23. 23. 23. 23. 23.\n",
            " 23. 23. 23. 23. 23. 25. 25. 25. 25. 25. 25. 25. 25. 25. 25. 25. 25. 25.\n",
            " 25. 25. 25. 30. 30. 30. 30. 30. 30. 30. 30. 30. 30. 35. 35. 35. 35. 35.\n",
            " 35. 35. 35. 35. 26. 26. 26. 26. 26. 26. 26. 26. 26. 26. 26. 31. 31. 31.\n",
            " 31. 31. 31. 31. 31. 31. 31. 31. 31. 31. 31. 29. 29. 29. 24. 29. 29. 29.\n",
            " 29. 29. 22. 22. 22. 22. 22. 22. 22. 22. 22. 22. 30. 30. 30. 30. 30. 30.\n",
            " 30. 26. 30. 30. 27. 27. 27. 27. 27. 27. 27. 27. 27. 27. 27. 27. 27. 27.\n",
            " 27. 27. 27. 41. 41. 41. 41. 41. 41. 41. 41. 41. 41. 41. 41. 41. 41. 26.\n",
            " 26. 26. 26. 26. 26. 26. 26. 26. 24. 26. 26. 26. 26. 26. 26. 23. 26. 26.\n",
            " 26. 26. 26. 26. 26. 26. 26. 26. 26. 26. 26. 26. 26. 26. 26. 26. 30. 30.\n",
            " 30. 30. 30. 30. 30. 30. 30. 30. 30. 30. 30. 30. 30. 30. 30. 30. 30. 28.\n",
            " 28. 28. 28. 28. 28. 28. 28. 28. 28. 28. 28. 28. 28. 28. 28. 29. 29. 29.\n",
            " 29. 29. 29. 29. 29. 29. 29. 29. 29. 29. 26. 29.]\n"
          ]
        }
      ],
      "source": [
        "y_pred_test_after_L2 = knn_classifier.predict(x_test_pca)\n",
        "print('Predicted labels after feature engineering:', y_pred_test_after_L2)"
      ]
    },
    {
      "cell_type": "code",
      "execution_count": 243,
      "metadata": {},
      "outputs": [
        {
          "data": {
            "text/plain": [
              "((750,), (750,))"
            ]
          },
          "execution_count": 243,
          "metadata": {},
          "output_type": "execute_result"
        }
      ],
      "source": [
        "y_pred_test_before_L2.shape, y_pred_test_after_L2.shape"
      ]
    },
    {
      "cell_type": "code",
      "execution_count": 244,
      "metadata": {
        "colab": {
          "base_uri": "https://localhost:8080/",
          "height": 325
        },
        "id": "HsKnG7c7WMFA",
        "outputId": "777a7434-a3e6-4cf5-dc3c-22a693d17fbe"
      },
      "outputs": [
        {
          "data": {
            "text/html": [
              "<div>\n",
              "<style scoped>\n",
              "    .dataframe tbody tr th:only-of-type {\n",
              "        vertical-align: middle;\n",
              "    }\n",
              "\n",
              "    .dataframe tbody tr th {\n",
              "        vertical-align: top;\n",
              "    }\n",
              "\n",
              "    .dataframe thead th {\n",
              "        text-align: right;\n",
              "    }\n",
              "</style>\n",
              "<table border=\"1\" class=\"dataframe\">\n",
              "  <thead>\n",
              "    <tr style=\"text-align: right;\">\n",
              "      <th></th>\n",
              "      <th>Predicted labels before feature engineering</th>\n",
              "      <th>Predicted labels after feature engineering</th>\n",
              "      <th>No. of new features</th>\n",
              "      <th>New feature 1</th>\n",
              "      <th>New feature 2</th>\n",
              "      <th>New feature 3</th>\n",
              "      <th>New feature 4</th>\n",
              "      <th>New feature 5</th>\n",
              "      <th>New feature 6</th>\n",
              "      <th>New feature 7</th>\n",
              "      <th>...</th>\n",
              "      <th>New feature 30</th>\n",
              "      <th>New feature 31</th>\n",
              "      <th>New feature 32</th>\n",
              "      <th>New feature 33</th>\n",
              "      <th>New feature 34</th>\n",
              "      <th>New feature 35</th>\n",
              "      <th>New feature 36</th>\n",
              "      <th>New feature 37</th>\n",
              "      <th>New feature 38</th>\n",
              "      <th>New feature 39</th>\n",
              "    </tr>\n",
              "  </thead>\n",
              "  <tbody>\n",
              "    <tr>\n",
              "      <th>0</th>\n",
              "      <td>26.0</td>\n",
              "      <td>26.0</td>\n",
              "      <td>39</td>\n",
              "      <td>-1.812223</td>\n",
              "      <td>6.687155</td>\n",
              "      <td>-3.641918</td>\n",
              "      <td>-0.345455</td>\n",
              "      <td>-6.543906</td>\n",
              "      <td>-0.232424</td>\n",
              "      <td>3.680529</td>\n",
              "      <td>...</td>\n",
              "      <td>-2.329460</td>\n",
              "      <td>1.562674</td>\n",
              "      <td>0.135665</td>\n",
              "      <td>1.988316</td>\n",
              "      <td>2.905189</td>\n",
              "      <td>1.233378</td>\n",
              "      <td>-1.572804</td>\n",
              "      <td>-0.391497</td>\n",
              "      <td>-2.491533</td>\n",
              "      <td>2.465499</td>\n",
              "    </tr>\n",
              "    <tr>\n",
              "      <th>1</th>\n",
              "      <td>31.0</td>\n",
              "      <td>31.0</td>\n",
              "      <td>39</td>\n",
              "      <td>-6.429202</td>\n",
              "      <td>8.208834</td>\n",
              "      <td>-0.228147</td>\n",
              "      <td>8.026291</td>\n",
              "      <td>-6.485308</td>\n",
              "      <td>4.389094</td>\n",
              "      <td>-1.675062</td>\n",
              "      <td>...</td>\n",
              "      <td>-0.278233</td>\n",
              "      <td>1.361253</td>\n",
              "      <td>0.039520</td>\n",
              "      <td>-1.158711</td>\n",
              "      <td>-0.013061</td>\n",
              "      <td>0.241287</td>\n",
              "      <td>-0.949262</td>\n",
              "      <td>-1.418688</td>\n",
              "      <td>-1.367894</td>\n",
              "      <td>1.490290</td>\n",
              "    </tr>\n",
              "    <tr>\n",
              "      <th>2</th>\n",
              "      <td>25.0</td>\n",
              "      <td>30.0</td>\n",
              "      <td>39</td>\n",
              "      <td>-4.636527</td>\n",
              "      <td>3.081759</td>\n",
              "      <td>-0.201630</td>\n",
              "      <td>4.513831</td>\n",
              "      <td>-3.444809</td>\n",
              "      <td>-0.378538</td>\n",
              "      <td>-0.598476</td>\n",
              "      <td>...</td>\n",
              "      <td>-1.208152</td>\n",
              "      <td>3.051534</td>\n",
              "      <td>-0.314827</td>\n",
              "      <td>-0.773049</td>\n",
              "      <td>-1.442211</td>\n",
              "      <td>0.534809</td>\n",
              "      <td>-1.197135</td>\n",
              "      <td>-1.295337</td>\n",
              "      <td>0.562543</td>\n",
              "      <td>1.769142</td>\n",
              "    </tr>\n",
              "    <tr>\n",
              "      <th>3</th>\n",
              "      <td>27.0</td>\n",
              "      <td>27.0</td>\n",
              "      <td>39</td>\n",
              "      <td>-2.033135</td>\n",
              "      <td>5.574049</td>\n",
              "      <td>-0.977140</td>\n",
              "      <td>0.732895</td>\n",
              "      <td>2.986661</td>\n",
              "      <td>4.048778</td>\n",
              "      <td>0.064816</td>\n",
              "      <td>...</td>\n",
              "      <td>-2.291276</td>\n",
              "      <td>1.777321</td>\n",
              "      <td>-1.438575</td>\n",
              "      <td>-2.084518</td>\n",
              "      <td>-2.807757</td>\n",
              "      <td>0.507345</td>\n",
              "      <td>0.325432</td>\n",
              "      <td>-1.894801</td>\n",
              "      <td>0.626920</td>\n",
              "      <td>1.327646</td>\n",
              "    </tr>\n",
              "    <tr>\n",
              "      <th>4</th>\n",
              "      <td>31.0</td>\n",
              "      <td>31.0</td>\n",
              "      <td>39</td>\n",
              "      <td>0.862663</td>\n",
              "      <td>5.753936</td>\n",
              "      <td>1.644088</td>\n",
              "      <td>2.243056</td>\n",
              "      <td>-3.438429</td>\n",
              "      <td>-0.409911</td>\n",
              "      <td>1.583930</td>\n",
              "      <td>...</td>\n",
              "      <td>-2.007713</td>\n",
              "      <td>-0.161983</td>\n",
              "      <td>0.644221</td>\n",
              "      <td>-1.585627</td>\n",
              "      <td>0.040405</td>\n",
              "      <td>0.023946</td>\n",
              "      <td>-0.025959</td>\n",
              "      <td>-2.123518</td>\n",
              "      <td>-0.441444</td>\n",
              "      <td>2.844272</td>\n",
              "    </tr>\n",
              "  </tbody>\n",
              "</table>\n",
              "<p>5 rows × 42 columns</p>\n",
              "</div>"
            ],
            "text/plain": [
              "   Predicted labels before feature engineering  \\\n",
              "0                                         26.0   \n",
              "1                                         31.0   \n",
              "2                                         25.0   \n",
              "3                                         27.0   \n",
              "4                                         31.0   \n",
              "\n",
              "   Predicted labels after feature engineering  No. of new features  \\\n",
              "0                                        26.0                   39   \n",
              "1                                        31.0                   39   \n",
              "2                                        30.0                   39   \n",
              "3                                        27.0                   39   \n",
              "4                                        31.0                   39   \n",
              "\n",
              "   New feature 1  New feature 2  New feature 3  New feature 4  New feature 5  \\\n",
              "0      -1.812223       6.687155      -3.641918      -0.345455      -6.543906   \n",
              "1      -6.429202       8.208834      -0.228147       8.026291      -6.485308   \n",
              "2      -4.636527       3.081759      -0.201630       4.513831      -3.444809   \n",
              "3      -2.033135       5.574049      -0.977140       0.732895       2.986661   \n",
              "4       0.862663       5.753936       1.644088       2.243056      -3.438429   \n",
              "\n",
              "   New feature 6  New feature 7  ...  New feature 30  New feature 31  \\\n",
              "0      -0.232424       3.680529  ...       -2.329460        1.562674   \n",
              "1       4.389094      -1.675062  ...       -0.278233        1.361253   \n",
              "2      -0.378538      -0.598476  ...       -1.208152        3.051534   \n",
              "3       4.048778       0.064816  ...       -2.291276        1.777321   \n",
              "4      -0.409911       1.583930  ...       -2.007713       -0.161983   \n",
              "\n",
              "   New feature 32  New feature 33  New feature 34  New feature 35  \\\n",
              "0        0.135665        1.988316        2.905189        1.233378   \n",
              "1        0.039520       -1.158711       -0.013061        0.241287   \n",
              "2       -0.314827       -0.773049       -1.442211        0.534809   \n",
              "3       -1.438575       -2.084518       -2.807757        0.507345   \n",
              "4        0.644221       -1.585627        0.040405        0.023946   \n",
              "\n",
              "   New feature 36  New feature 37  New feature 38  New feature 39  \n",
              "0       -1.572804       -0.391497       -2.491533        2.465499  \n",
              "1       -0.949262       -1.418688       -1.367894        1.490290  \n",
              "2       -1.197135       -1.295337        0.562543        1.769142  \n",
              "3        0.325432       -1.894801        0.626920        1.327646  \n",
              "4       -0.025959       -2.123518       -0.441444        2.844272  \n",
              "\n",
              "[5 rows x 42 columns]"
            ]
          },
          "execution_count": 244,
          "metadata": {},
          "output_type": "execute_result"
        }
      ],
      "source": [
        "output_df = pd.DataFrame({\n",
        "    'Predicted labels before feature engineering': y_pred_test_before_L2,\n",
        "    'Predicted labels after feature engineering': y_pred_test_after_L2,\n",
        "    'No. of new features': x_test_pca.shape[1]\n",
        "})\n",
        "\n",
        "\n",
        "for i in range(x_test_pca.shape[1]):\n",
        "  output_df[f'New feature {i+1}'] = x_test_pca[:, i]\n",
        "\n",
        "output_df.head()"
      ]
    },
    {
      "cell_type": "code",
      "execution_count": 245,
      "metadata": {
        "id": "pTL4q2AFWOik"
      },
      "outputs": [],
      "source": [
        "# Save the DataFrame to the specified CSV file path\n",
        "output_df.to_csv(f\"output/190394R_label_2.csv\", index=False)"
      ]
    },
    {
      "cell_type": "markdown",
      "metadata": {
        "id": "KNz8Z-0IO2F_"
      },
      "source": [
        "## Accuracy After Feature Engineering - PCA"
      ]
    },
    {
      "cell_type": "code",
      "execution_count": 246,
      "metadata": {
        "colab": {
          "base_uri": "https://localhost:8080/"
        },
        "id": "4h3j7kEOGwBw",
        "outputId": "201d3ac8-8e57-4302-e531-15df296f867f"
      },
      "outputs": [
        {
          "name": "stdout",
          "output_type": "stream",
          "text": [
            "Accuracy: 0.9823369565217391\n",
            "Precision: 0.9829790686548117\n",
            "Recall: 0.9823369565217391\n"
          ]
        }
      ],
      "source": [
        "print(f\"Accuracy: {metrics.accuracy_score(y_valid[L2], y_pred)}\")\n",
        "print(f\"Precision: {metrics.precision_score(y_valid[L2], y_pred, average='weighted')}\")\n",
        "print(f\"Recall: {metrics.recall_score(y_valid[L2], y_pred,average='weighted')}\")"
      ]
    },
    {
      "cell_type": "markdown",
      "metadata": {
        "id": "RA-A4IP6E9x4"
      },
      "source": [
        "# Label_3"
      ]
    },
    {
      "cell_type": "code",
      "execution_count": 247,
      "metadata": {
        "colab": {
          "base_uri": "https://localhost:8080/",
          "height": 74
        },
        "id": "re_pcsv_GArc",
        "outputId": "d94bc116-b200-48c3-e650-9e4d31647aec"
      },
      "outputs": [
        {
          "data": {
            "text/html": [
              "<style>#sk-container-id-40 {color: black;}#sk-container-id-40 pre{padding: 0;}#sk-container-id-40 div.sk-toggleable {background-color: white;}#sk-container-id-40 label.sk-toggleable__label {cursor: pointer;display: block;width: 100%;margin-bottom: 0;padding: 0.3em;box-sizing: border-box;text-align: center;}#sk-container-id-40 label.sk-toggleable__label-arrow:before {content: \"▸\";float: left;margin-right: 0.25em;color: #696969;}#sk-container-id-40 label.sk-toggleable__label-arrow:hover:before {color: black;}#sk-container-id-40 div.sk-estimator:hover label.sk-toggleable__label-arrow:before {color: black;}#sk-container-id-40 div.sk-toggleable__content {max-height: 0;max-width: 0;overflow: hidden;text-align: left;background-color: #f0f8ff;}#sk-container-id-40 div.sk-toggleable__content pre {margin: 0.2em;color: black;border-radius: 0.25em;background-color: #f0f8ff;}#sk-container-id-40 input.sk-toggleable__control:checked~div.sk-toggleable__content {max-height: 200px;max-width: 100%;overflow: auto;}#sk-container-id-40 input.sk-toggleable__control:checked~label.sk-toggleable__label-arrow:before {content: \"▾\";}#sk-container-id-40 div.sk-estimator input.sk-toggleable__control:checked~label.sk-toggleable__label {background-color: #d4ebff;}#sk-container-id-40 div.sk-label input.sk-toggleable__control:checked~label.sk-toggleable__label {background-color: #d4ebff;}#sk-container-id-40 input.sk-hidden--visually {border: 0;clip: rect(1px 1px 1px 1px);clip: rect(1px, 1px, 1px, 1px);height: 1px;margin: -1px;overflow: hidden;padding: 0;position: absolute;width: 1px;}#sk-container-id-40 div.sk-estimator {font-family: monospace;background-color: #f0f8ff;border: 1px dotted black;border-radius: 0.25em;box-sizing: border-box;margin-bottom: 0.5em;}#sk-container-id-40 div.sk-estimator:hover {background-color: #d4ebff;}#sk-container-id-40 div.sk-parallel-item::after {content: \"\";width: 100%;border-bottom: 1px solid gray;flex-grow: 1;}#sk-container-id-40 div.sk-label:hover label.sk-toggleable__label {background-color: #d4ebff;}#sk-container-id-40 div.sk-serial::before {content: \"\";position: absolute;border-left: 1px solid gray;box-sizing: border-box;top: 0;bottom: 0;left: 50%;z-index: 0;}#sk-container-id-40 div.sk-serial {display: flex;flex-direction: column;align-items: center;background-color: white;padding-right: 0.2em;padding-left: 0.2em;position: relative;}#sk-container-id-40 div.sk-item {position: relative;z-index: 1;}#sk-container-id-40 div.sk-parallel {display: flex;align-items: stretch;justify-content: center;background-color: white;position: relative;}#sk-container-id-40 div.sk-item::before, #sk-container-id-40 div.sk-parallel-item::before {content: \"\";position: absolute;border-left: 1px solid gray;box-sizing: border-box;top: 0;bottom: 0;left: 50%;z-index: -1;}#sk-container-id-40 div.sk-parallel-item {display: flex;flex-direction: column;z-index: 1;position: relative;background-color: white;}#sk-container-id-40 div.sk-parallel-item:first-child::after {align-self: flex-end;width: 50%;}#sk-container-id-40 div.sk-parallel-item:last-child::after {align-self: flex-start;width: 50%;}#sk-container-id-40 div.sk-parallel-item:only-child::after {width: 0;}#sk-container-id-40 div.sk-dashed-wrapped {border: 1px dashed gray;margin: 0 0.4em 0.5em 0.4em;box-sizing: border-box;padding-bottom: 0.4em;background-color: white;}#sk-container-id-40 div.sk-label label {font-family: monospace;font-weight: bold;display: inline-block;line-height: 1.2em;}#sk-container-id-40 div.sk-label-container {text-align: center;}#sk-container-id-40 div.sk-container {/* jupyter's `normalize.less` sets `[hidden] { display: none; }` but bootstrap.min.css set `[hidden] { display: none !important; }` so we also need the `!important` here to be able to override the default hidden behavior on the sphinx rendered scikit-learn.org. See: https://github.com/scikit-learn/scikit-learn/issues/21755 */display: inline-block !important;position: relative;}#sk-container-id-40 div.sk-text-repr-fallback {display: none;}</style><div id=\"sk-container-id-40\" class=\"sk-top-container\"><div class=\"sk-text-repr-fallback\"><pre>SVC(class_weight=&#x27;balanced&#x27;, kernel=&#x27;linear&#x27;)</pre><b>In a Jupyter environment, please rerun this cell to show the HTML representation or trust the notebook. <br />On GitHub, the HTML representation is unable to render, please try loading this page with nbviewer.org.</b></div><div class=\"sk-container\" hidden><div class=\"sk-item\"><div class=\"sk-estimator sk-toggleable\"><input class=\"sk-toggleable__control sk-hidden--visually\" id=\"sk-estimator-id-40\" type=\"checkbox\" checked><label for=\"sk-estimator-id-40\" class=\"sk-toggleable__label sk-toggleable__label-arrow\">SVC</label><div class=\"sk-toggleable__content\"><pre>SVC(class_weight=&#x27;balanced&#x27;, kernel=&#x27;linear&#x27;)</pre></div></div></div></div></div>"
            ],
            "text/plain": [
              "SVC(class_weight='balanced', kernel='linear')"
            ]
          },
          "execution_count": 247,
          "metadata": {},
          "output_type": "execute_result"
        }
      ],
      "source": [
        "clf = svm.SVC(kernel='linear', class_weight='balanced')\n",
        "clf.fit(x_train[L3], y_train[L3])"
      ]
    },
    {
      "cell_type": "code",
      "execution_count": 248,
      "metadata": {
        "id": "FJ_08NbrL8lg"
      },
      "outputs": [],
      "source": [
        "y_pred = clf.predict(x_valid[L3])\n",
        "y_pred_test_before_L3 = clf.predict(x_test[L3])\n"
      ]
    },
    {
      "cell_type": "markdown",
      "metadata": {
        "id": "IyLO6VMsO8VD"
      },
      "source": [
        "## Accuracy Before Feature Engineering"
      ]
    },
    {
      "cell_type": "code",
      "execution_count": 249,
      "metadata": {
        "colab": {
          "base_uri": "https://localhost:8080/"
        },
        "id": "4G4abYl3L_jp",
        "outputId": "eb2e9cd1-a1c1-4552-c5f1-ae6377a6c4bb"
      },
      "outputs": [
        {
          "name": "stdout",
          "output_type": "stream",
          "text": [
            "Accuracy: 0.9986666666666667\n",
            "Precision: 0.9986759906759908\n",
            "Recall: 0.9986666666666667\n"
          ]
        }
      ],
      "source": [
        "print(f\"Accuracy: {metrics.accuracy_score(y_valid[L3], y_pred)}\")\n",
        "print(f\"Precision: {metrics.precision_score(y_valid[L3], y_pred, average='weighted')}\")\n",
        "print(f\"Recall: {metrics.recall_score(y_valid[L3], y_pred,average='weighted')}\")"
      ]
    },
    {
      "cell_type": "code",
      "execution_count": 250,
      "metadata": {
        "id": "ofEXKTzTxNXK"
      },
      "outputs": [],
      "source": [
        "selector = SelectKBest(f_classif, k=15)\n",
        "x_new = selector.fit_transform(x_train[L3], y_train[L3])"
      ]
    },
    {
      "cell_type": "code",
      "execution_count": 251,
      "metadata": {
        "colab": {
          "base_uri": "https://localhost:8080/"
        },
        "id": "tCWaO49GMDwB",
        "outputId": "116e575b-95ec-427e-fed7-0263b71e537b"
      },
      "outputs": [
        {
          "name": "stdout",
          "output_type": "stream",
          "text": [
            "(28520, 15)\n"
          ]
        }
      ],
      "source": [
        "print(x_new.shape)"
      ]
    },
    {
      "cell_type": "code",
      "execution_count": 252,
      "metadata": {
        "colab": {
          "base_uri": "https://localhost:8080/",
          "height": 74
        },
        "id": "JcGw80k_MGu9",
        "outputId": "b9655858-57ba-477a-c2e9-b8784b990e5b"
      },
      "outputs": [
        {
          "data": {
            "text/html": [
              "<style>#sk-container-id-41 {color: black;}#sk-container-id-41 pre{padding: 0;}#sk-container-id-41 div.sk-toggleable {background-color: white;}#sk-container-id-41 label.sk-toggleable__label {cursor: pointer;display: block;width: 100%;margin-bottom: 0;padding: 0.3em;box-sizing: border-box;text-align: center;}#sk-container-id-41 label.sk-toggleable__label-arrow:before {content: \"▸\";float: left;margin-right: 0.25em;color: #696969;}#sk-container-id-41 label.sk-toggleable__label-arrow:hover:before {color: black;}#sk-container-id-41 div.sk-estimator:hover label.sk-toggleable__label-arrow:before {color: black;}#sk-container-id-41 div.sk-toggleable__content {max-height: 0;max-width: 0;overflow: hidden;text-align: left;background-color: #f0f8ff;}#sk-container-id-41 div.sk-toggleable__content pre {margin: 0.2em;color: black;border-radius: 0.25em;background-color: #f0f8ff;}#sk-container-id-41 input.sk-toggleable__control:checked~div.sk-toggleable__content {max-height: 200px;max-width: 100%;overflow: auto;}#sk-container-id-41 input.sk-toggleable__control:checked~label.sk-toggleable__label-arrow:before {content: \"▾\";}#sk-container-id-41 div.sk-estimator input.sk-toggleable__control:checked~label.sk-toggleable__label {background-color: #d4ebff;}#sk-container-id-41 div.sk-label input.sk-toggleable__control:checked~label.sk-toggleable__label {background-color: #d4ebff;}#sk-container-id-41 input.sk-hidden--visually {border: 0;clip: rect(1px 1px 1px 1px);clip: rect(1px, 1px, 1px, 1px);height: 1px;margin: -1px;overflow: hidden;padding: 0;position: absolute;width: 1px;}#sk-container-id-41 div.sk-estimator {font-family: monospace;background-color: #f0f8ff;border: 1px dotted black;border-radius: 0.25em;box-sizing: border-box;margin-bottom: 0.5em;}#sk-container-id-41 div.sk-estimator:hover {background-color: #d4ebff;}#sk-container-id-41 div.sk-parallel-item::after {content: \"\";width: 100%;border-bottom: 1px solid gray;flex-grow: 1;}#sk-container-id-41 div.sk-label:hover label.sk-toggleable__label {background-color: #d4ebff;}#sk-container-id-41 div.sk-serial::before {content: \"\";position: absolute;border-left: 1px solid gray;box-sizing: border-box;top: 0;bottom: 0;left: 50%;z-index: 0;}#sk-container-id-41 div.sk-serial {display: flex;flex-direction: column;align-items: center;background-color: white;padding-right: 0.2em;padding-left: 0.2em;position: relative;}#sk-container-id-41 div.sk-item {position: relative;z-index: 1;}#sk-container-id-41 div.sk-parallel {display: flex;align-items: stretch;justify-content: center;background-color: white;position: relative;}#sk-container-id-41 div.sk-item::before, #sk-container-id-41 div.sk-parallel-item::before {content: \"\";position: absolute;border-left: 1px solid gray;box-sizing: border-box;top: 0;bottom: 0;left: 50%;z-index: -1;}#sk-container-id-41 div.sk-parallel-item {display: flex;flex-direction: column;z-index: 1;position: relative;background-color: white;}#sk-container-id-41 div.sk-parallel-item:first-child::after {align-self: flex-end;width: 50%;}#sk-container-id-41 div.sk-parallel-item:last-child::after {align-self: flex-start;width: 50%;}#sk-container-id-41 div.sk-parallel-item:only-child::after {width: 0;}#sk-container-id-41 div.sk-dashed-wrapped {border: 1px dashed gray;margin: 0 0.4em 0.5em 0.4em;box-sizing: border-box;padding-bottom: 0.4em;background-color: white;}#sk-container-id-41 div.sk-label label {font-family: monospace;font-weight: bold;display: inline-block;line-height: 1.2em;}#sk-container-id-41 div.sk-label-container {text-align: center;}#sk-container-id-41 div.sk-container {/* jupyter's `normalize.less` sets `[hidden] { display: none; }` but bootstrap.min.css set `[hidden] { display: none !important; }` so we also need the `!important` here to be able to override the default hidden behavior on the sphinx rendered scikit-learn.org. See: https://github.com/scikit-learn/scikit-learn/issues/21755 */display: inline-block !important;position: relative;}#sk-container-id-41 div.sk-text-repr-fallback {display: none;}</style><div id=\"sk-container-id-41\" class=\"sk-top-container\"><div class=\"sk-text-repr-fallback\"><pre>SVC(kernel=&#x27;linear&#x27;)</pre><b>In a Jupyter environment, please rerun this cell to show the HTML representation or trust the notebook. <br />On GitHub, the HTML representation is unable to render, please try loading this page with nbviewer.org.</b></div><div class=\"sk-container\" hidden><div class=\"sk-item\"><div class=\"sk-estimator sk-toggleable\"><input class=\"sk-toggleable__control sk-hidden--visually\" id=\"sk-estimator-id-41\" type=\"checkbox\" checked><label for=\"sk-estimator-id-41\" class=\"sk-toggleable__label sk-toggleable__label-arrow\">SVC</label><div class=\"sk-toggleable__content\"><pre>SVC(kernel=&#x27;linear&#x27;)</pre></div></div></div></div></div>"
            ],
            "text/plain": [
              "SVC(kernel='linear')"
            ]
          },
          "execution_count": 252,
          "metadata": {},
          "output_type": "execute_result"
        }
      ],
      "source": [
        "clf = svm.SVC(kernel='linear' )\n",
        "clf.fit(x_new, y_train[L3])"
      ]
    },
    {
      "cell_type": "code",
      "execution_count": 253,
      "metadata": {
        "id": "Jlvi_ox7MKWd"
      },
      "outputs": [],
      "source": [
        "y_new_pred = clf.predict(selector.transform(x_valid[L3]))"
      ]
    },
    {
      "cell_type": "markdown",
      "metadata": {
        "id": "OVpqGP57O-uJ"
      },
      "source": [
        "## Accuracy After Feature Engineering - selectKBest"
      ]
    },
    {
      "cell_type": "code",
      "execution_count": 254,
      "metadata": {
        "colab": {
          "base_uri": "https://localhost:8080/"
        },
        "id": "S8JeW2GvMPhx",
        "outputId": "acfac43e-2e76-400f-beb3-ca185248d73f"
      },
      "outputs": [
        {
          "name": "stdout",
          "output_type": "stream",
          "text": [
            "Accuracy: 0.984\n",
            "Precision: 0.9841076274294095\n",
            "Recall: 0.9986666666666667\n"
          ]
        }
      ],
      "source": [
        "print(f\"Accuracy: {metrics.accuracy_score(y_valid[L3], y_new_pred)}\")\n",
        "print(f\"Precision: {metrics.precision_score(y_valid[L3], y_new_pred, average='weighted')}\")\n",
        "print(f\"Recall: {metrics.recall_score(y_valid[L3], y_pred,average='weighted')}\")"
      ]
    },
    {
      "cell_type": "code",
      "execution_count": 255,
      "metadata": {
        "id": "-Zg6MCTTxrMB"
      },
      "outputs": [],
      "source": [
        "pca = PCA(n_components = 0.45, svd_solver ='full')"
      ]
    },
    {
      "cell_type": "code",
      "execution_count": 256,
      "metadata": {
        "colab": {
          "base_uri": "https://localhost:8080/"
        },
        "id": "_G1gci_4MSep",
        "outputId": "efd4b94e-7105-4516-8a7c-5b5d0f6e7a51"
      },
      "outputs": [
        {
          "name": "stdout",
          "output_type": "stream",
          "text": [
            "(28520, 9) (750, 9)\n"
          ]
        }
      ],
      "source": [
        "pca = PCA(n_components = 0.45, svd_solver ='full')\n",
        "pca.fit(x_train[L3])\n",
        "x_train_trans = pd.DataFrame(pca.transform(x_train[L3]))\n",
        "x_valid_trans = pd.DataFrame(pca.transform(x_valid[L3]))\n",
        "x_test_pca = pca.transform(x_test[L3])\n",
        "\n",
        "print(x_train_trans.shape, x_valid_trans.shape)"
      ]
    },
    {
      "cell_type": "code",
      "execution_count": 257,
      "metadata": {
        "colab": {
          "base_uri": "https://localhost:8080/",
          "height": 74
        },
        "id": "OiHvQ2GbMW9X",
        "outputId": "fac0d162-05fb-4a3f-e54c-994598f83b17"
      },
      "outputs": [
        {
          "data": {
            "text/html": [
              "<style>#sk-container-id-42 {color: black;}#sk-container-id-42 pre{padding: 0;}#sk-container-id-42 div.sk-toggleable {background-color: white;}#sk-container-id-42 label.sk-toggleable__label {cursor: pointer;display: block;width: 100%;margin-bottom: 0;padding: 0.3em;box-sizing: border-box;text-align: center;}#sk-container-id-42 label.sk-toggleable__label-arrow:before {content: \"▸\";float: left;margin-right: 0.25em;color: #696969;}#sk-container-id-42 label.sk-toggleable__label-arrow:hover:before {color: black;}#sk-container-id-42 div.sk-estimator:hover label.sk-toggleable__label-arrow:before {color: black;}#sk-container-id-42 div.sk-toggleable__content {max-height: 0;max-width: 0;overflow: hidden;text-align: left;background-color: #f0f8ff;}#sk-container-id-42 div.sk-toggleable__content pre {margin: 0.2em;color: black;border-radius: 0.25em;background-color: #f0f8ff;}#sk-container-id-42 input.sk-toggleable__control:checked~div.sk-toggleable__content {max-height: 200px;max-width: 100%;overflow: auto;}#sk-container-id-42 input.sk-toggleable__control:checked~label.sk-toggleable__label-arrow:before {content: \"▾\";}#sk-container-id-42 div.sk-estimator input.sk-toggleable__control:checked~label.sk-toggleable__label {background-color: #d4ebff;}#sk-container-id-42 div.sk-label input.sk-toggleable__control:checked~label.sk-toggleable__label {background-color: #d4ebff;}#sk-container-id-42 input.sk-hidden--visually {border: 0;clip: rect(1px 1px 1px 1px);clip: rect(1px, 1px, 1px, 1px);height: 1px;margin: -1px;overflow: hidden;padding: 0;position: absolute;width: 1px;}#sk-container-id-42 div.sk-estimator {font-family: monospace;background-color: #f0f8ff;border: 1px dotted black;border-radius: 0.25em;box-sizing: border-box;margin-bottom: 0.5em;}#sk-container-id-42 div.sk-estimator:hover {background-color: #d4ebff;}#sk-container-id-42 div.sk-parallel-item::after {content: \"\";width: 100%;border-bottom: 1px solid gray;flex-grow: 1;}#sk-container-id-42 div.sk-label:hover label.sk-toggleable__label {background-color: #d4ebff;}#sk-container-id-42 div.sk-serial::before {content: \"\";position: absolute;border-left: 1px solid gray;box-sizing: border-box;top: 0;bottom: 0;left: 50%;z-index: 0;}#sk-container-id-42 div.sk-serial {display: flex;flex-direction: column;align-items: center;background-color: white;padding-right: 0.2em;padding-left: 0.2em;position: relative;}#sk-container-id-42 div.sk-item {position: relative;z-index: 1;}#sk-container-id-42 div.sk-parallel {display: flex;align-items: stretch;justify-content: center;background-color: white;position: relative;}#sk-container-id-42 div.sk-item::before, #sk-container-id-42 div.sk-parallel-item::before {content: \"\";position: absolute;border-left: 1px solid gray;box-sizing: border-box;top: 0;bottom: 0;left: 50%;z-index: -1;}#sk-container-id-42 div.sk-parallel-item {display: flex;flex-direction: column;z-index: 1;position: relative;background-color: white;}#sk-container-id-42 div.sk-parallel-item:first-child::after {align-self: flex-end;width: 50%;}#sk-container-id-42 div.sk-parallel-item:last-child::after {align-self: flex-start;width: 50%;}#sk-container-id-42 div.sk-parallel-item:only-child::after {width: 0;}#sk-container-id-42 div.sk-dashed-wrapped {border: 1px dashed gray;margin: 0 0.4em 0.5em 0.4em;box-sizing: border-box;padding-bottom: 0.4em;background-color: white;}#sk-container-id-42 div.sk-label label {font-family: monospace;font-weight: bold;display: inline-block;line-height: 1.2em;}#sk-container-id-42 div.sk-label-container {text-align: center;}#sk-container-id-42 div.sk-container {/* jupyter's `normalize.less` sets `[hidden] { display: none; }` but bootstrap.min.css set `[hidden] { display: none !important; }` so we also need the `!important` here to be able to override the default hidden behavior on the sphinx rendered scikit-learn.org. See: https://github.com/scikit-learn/scikit-learn/issues/21755 */display: inline-block !important;position: relative;}#sk-container-id-42 div.sk-text-repr-fallback {display: none;}</style><div id=\"sk-container-id-42\" class=\"sk-top-container\"><div class=\"sk-text-repr-fallback\"><pre>SVC(kernel=&#x27;linear&#x27;)</pre><b>In a Jupyter environment, please rerun this cell to show the HTML representation or trust the notebook. <br />On GitHub, the HTML representation is unable to render, please try loading this page with nbviewer.org.</b></div><div class=\"sk-container\" hidden><div class=\"sk-item\"><div class=\"sk-estimator sk-toggleable\"><input class=\"sk-toggleable__control sk-hidden--visually\" id=\"sk-estimator-id-42\" type=\"checkbox\" checked><label for=\"sk-estimator-id-42\" class=\"sk-toggleable__label sk-toggleable__label-arrow\">SVC</label><div class=\"sk-toggleable__content\"><pre>SVC(kernel=&#x27;linear&#x27;)</pre></div></div></div></div></div>"
            ],
            "text/plain": [
              "SVC(kernel='linear')"
            ]
          },
          "execution_count": 257,
          "metadata": {},
          "output_type": "execute_result"
        }
      ],
      "source": [
        "clf = svm.SVC(kernel='linear' )\n",
        "clf.fit(x_train_trans, y_train[L3])"
      ]
    },
    {
      "cell_type": "code",
      "execution_count": 258,
      "metadata": {
        "id": "4SGZ42rNMZX7"
      },
      "outputs": [],
      "source": [
        "y_new_trans = clf.predict(x_valid_trans)"
      ]
    },
    {
      "cell_type": "code",
      "execution_count": 259,
      "metadata": {
        "colab": {
          "base_uri": "https://localhost:8080/"
        },
        "id": "Yvif4Kn0Wwtq",
        "outputId": "4ed7af98-4ff8-47c7-da1c-cbb71b8084ec"
      },
      "outputs": [],
      "source": [
        "y_pred_test_after_L3 = clf.predict(x_test_pca)\n",
        "# print('Predicted labels after feature engineering:', y_pred_test_after_L3)"
      ]
    },
    {
      "cell_type": "code",
      "execution_count": 260,
      "metadata": {
        "colab": {
          "base_uri": "https://localhost:8080/",
          "height": 258
        },
        "id": "Yvx7_OpTWxz0",
        "outputId": "d127f572-ce31-40fa-b9e2-5477963eb849"
      },
      "outputs": [
        {
          "data": {
            "text/html": [
              "<div>\n",
              "<style scoped>\n",
              "    .dataframe tbody tr th:only-of-type {\n",
              "        vertical-align: middle;\n",
              "    }\n",
              "\n",
              "    .dataframe tbody tr th {\n",
              "        vertical-align: top;\n",
              "    }\n",
              "\n",
              "    .dataframe thead th {\n",
              "        text-align: right;\n",
              "    }\n",
              "</style>\n",
              "<table border=\"1\" class=\"dataframe\">\n",
              "  <thead>\n",
              "    <tr style=\"text-align: right;\">\n",
              "      <th></th>\n",
              "      <th>Predicted labels before feature engineering</th>\n",
              "      <th>Predicted labels after feature engineering</th>\n",
              "      <th>No. of new features</th>\n",
              "      <th>New feature 1</th>\n",
              "      <th>New feature 2</th>\n",
              "      <th>New feature 3</th>\n",
              "      <th>New feature 4</th>\n",
              "      <th>New feature 5</th>\n",
              "      <th>New feature 6</th>\n",
              "      <th>New feature 7</th>\n",
              "      <th>New feature 8</th>\n",
              "      <th>New feature 9</th>\n",
              "    </tr>\n",
              "  </thead>\n",
              "  <tbody>\n",
              "    <tr>\n",
              "      <th>0</th>\n",
              "      <td>1</td>\n",
              "      <td>1</td>\n",
              "      <td>9</td>\n",
              "      <td>-1.967567</td>\n",
              "      <td>6.945703</td>\n",
              "      <td>-3.947321</td>\n",
              "      <td>-1.108198</td>\n",
              "      <td>-6.440248</td>\n",
              "      <td>-1.053785</td>\n",
              "      <td>3.471608</td>\n",
              "      <td>2.685400</td>\n",
              "      <td>5.946839</td>\n",
              "    </tr>\n",
              "    <tr>\n",
              "      <th>1</th>\n",
              "      <td>1</td>\n",
              "      <td>1</td>\n",
              "      <td>9</td>\n",
              "      <td>-6.692310</td>\n",
              "      <td>8.884467</td>\n",
              "      <td>-0.489867</td>\n",
              "      <td>-10.240206</td>\n",
              "      <td>-4.576115</td>\n",
              "      <td>2.229018</td>\n",
              "      <td>-2.025519</td>\n",
              "      <td>2.366489</td>\n",
              "      <td>-2.672080</td>\n",
              "    </tr>\n",
              "    <tr>\n",
              "      <th>2</th>\n",
              "      <td>1</td>\n",
              "      <td>1</td>\n",
              "      <td>9</td>\n",
              "      <td>-4.810155</td>\n",
              "      <td>3.547653</td>\n",
              "      <td>-0.297522</td>\n",
              "      <td>-5.550987</td>\n",
              "      <td>-2.225314</td>\n",
              "      <td>-1.305231</td>\n",
              "      <td>-0.434514</td>\n",
              "      <td>-0.250999</td>\n",
              "      <td>-5.807706</td>\n",
              "    </tr>\n",
              "    <tr>\n",
              "      <th>3</th>\n",
              "      <td>1</td>\n",
              "      <td>1</td>\n",
              "      <td>9</td>\n",
              "      <td>-2.185614</td>\n",
              "      <td>5.993099</td>\n",
              "      <td>-1.089448</td>\n",
              "      <td>-0.938549</td>\n",
              "      <td>2.566186</td>\n",
              "      <td>4.411621</td>\n",
              "      <td>0.475160</td>\n",
              "      <td>0.404839</td>\n",
              "      <td>1.420231</td>\n",
              "    </tr>\n",
              "    <tr>\n",
              "      <th>4</th>\n",
              "      <td>1</td>\n",
              "      <td>1</td>\n",
              "      <td>9</td>\n",
              "      <td>0.695696</td>\n",
              "      <td>6.181181</td>\n",
              "      <td>1.442544</td>\n",
              "      <td>-3.112025</td>\n",
              "      <td>-2.881196</td>\n",
              "      <td>-1.171098</td>\n",
              "      <td>1.626019</td>\n",
              "      <td>3.521929</td>\n",
              "      <td>0.719271</td>\n",
              "    </tr>\n",
              "  </tbody>\n",
              "</table>\n",
              "</div>"
            ],
            "text/plain": [
              "   Predicted labels before feature engineering  \\\n",
              "0                                            1   \n",
              "1                                            1   \n",
              "2                                            1   \n",
              "3                                            1   \n",
              "4                                            1   \n",
              "\n",
              "   Predicted labels after feature engineering  No. of new features  \\\n",
              "0                                           1                    9   \n",
              "1                                           1                    9   \n",
              "2                                           1                    9   \n",
              "3                                           1                    9   \n",
              "4                                           1                    9   \n",
              "\n",
              "   New feature 1  New feature 2  New feature 3  New feature 4  New feature 5  \\\n",
              "0      -1.967567       6.945703      -3.947321      -1.108198      -6.440248   \n",
              "1      -6.692310       8.884467      -0.489867     -10.240206      -4.576115   \n",
              "2      -4.810155       3.547653      -0.297522      -5.550987      -2.225314   \n",
              "3      -2.185614       5.993099      -1.089448      -0.938549       2.566186   \n",
              "4       0.695696       6.181181       1.442544      -3.112025      -2.881196   \n",
              "\n",
              "   New feature 6  New feature 7  New feature 8  New feature 9  \n",
              "0      -1.053785       3.471608       2.685400       5.946839  \n",
              "1       2.229018      -2.025519       2.366489      -2.672080  \n",
              "2      -1.305231      -0.434514      -0.250999      -5.807706  \n",
              "3       4.411621       0.475160       0.404839       1.420231  \n",
              "4      -1.171098       1.626019       3.521929       0.719271  "
            ]
          },
          "execution_count": 260,
          "metadata": {},
          "output_type": "execute_result"
        }
      ],
      "source": [
        "output_df = pd.DataFrame({\n",
        "    'Predicted labels before feature engineering': y_pred_test_before_L3,\n",
        "    'Predicted labels after feature engineering': y_pred_test_after_L3,\n",
        "    'No. of new features': x_test_pca.shape[1]\n",
        "})\n",
        "\n",
        "\n",
        "for i in range(x_test_pca.shape[1]):\n",
        "  output_df[f'New feature {i+1}'] = x_test_pca[:, i]\n",
        "\n",
        "output_df.head()"
      ]
    },
    {
      "cell_type": "code",
      "execution_count": 261,
      "metadata": {
        "id": "94_VEIYOW1aM"
      },
      "outputs": [],
      "source": [
        "# Save the DataFrame to the specified CSV file path\n",
        "output_df.to_csv(f\"output/190394R_label_3.csv\", index=False)"
      ]
    },
    {
      "cell_type": "markdown",
      "metadata": {
        "id": "TDuYqzKrPStf"
      },
      "source": [
        "Accuracy After Feature Engineering - PCA"
      ]
    },
    {
      "cell_type": "code",
      "execution_count": 262,
      "metadata": {
        "colab": {
          "base_uri": "https://localhost:8080/"
        },
        "id": "hwOdwVVrMcNN",
        "outputId": "d560d957-4522-4881-d3ef-664b3385e86d"
      },
      "outputs": [
        {
          "name": "stdout",
          "output_type": "stream",
          "text": [
            "Accuracy: 0.9866666666666667\n",
            "Precision: 0.986616705698673\n",
            "Recall: 0.9866666666666667\n"
          ]
        }
      ],
      "source": [
        "print(f\"Accuracy: {metrics.accuracy_score(y_valid[L3], y_new_trans)}\")\n",
        "print(f\"Precision: {metrics.precision_score(y_valid[L3], y_new_trans, average='weighted')}\")\n",
        "print(f\"Recall: {metrics.recall_score(y_valid[L3], y_new_trans,average='weighted')}\")"
      ]
    },
    {
      "cell_type": "markdown",
      "metadata": {
        "id": "SwXML5OeMd_K"
      },
      "source": [
        "# Label_4"
      ]
    },
    {
      "cell_type": "code",
      "execution_count": 263,
      "metadata": {
        "id": "6kbxWkCyMgwp"
      },
      "outputs": [],
      "source": [
        "k = 5  # Number of neighbors\n",
        "knn_classifier4 = KNeighborsClassifier(n_neighbors=k)"
      ]
    },
    {
      "cell_type": "code",
      "execution_count": 264,
      "metadata": {
        "colab": {
          "base_uri": "https://localhost:8080/",
          "height": 74
        },
        "id": "odGSF6A6MoDC",
        "outputId": "05821dc7-7451-49c1-e741-a912b7468e68"
      },
      "outputs": [
        {
          "data": {
            "text/html": [
              "<style>#sk-container-id-43 {color: black;}#sk-container-id-43 pre{padding: 0;}#sk-container-id-43 div.sk-toggleable {background-color: white;}#sk-container-id-43 label.sk-toggleable__label {cursor: pointer;display: block;width: 100%;margin-bottom: 0;padding: 0.3em;box-sizing: border-box;text-align: center;}#sk-container-id-43 label.sk-toggleable__label-arrow:before {content: \"▸\";float: left;margin-right: 0.25em;color: #696969;}#sk-container-id-43 label.sk-toggleable__label-arrow:hover:before {color: black;}#sk-container-id-43 div.sk-estimator:hover label.sk-toggleable__label-arrow:before {color: black;}#sk-container-id-43 div.sk-toggleable__content {max-height: 0;max-width: 0;overflow: hidden;text-align: left;background-color: #f0f8ff;}#sk-container-id-43 div.sk-toggleable__content pre {margin: 0.2em;color: black;border-radius: 0.25em;background-color: #f0f8ff;}#sk-container-id-43 input.sk-toggleable__control:checked~div.sk-toggleable__content {max-height: 200px;max-width: 100%;overflow: auto;}#sk-container-id-43 input.sk-toggleable__control:checked~label.sk-toggleable__label-arrow:before {content: \"▾\";}#sk-container-id-43 div.sk-estimator input.sk-toggleable__control:checked~label.sk-toggleable__label {background-color: #d4ebff;}#sk-container-id-43 div.sk-label input.sk-toggleable__control:checked~label.sk-toggleable__label {background-color: #d4ebff;}#sk-container-id-43 input.sk-hidden--visually {border: 0;clip: rect(1px 1px 1px 1px);clip: rect(1px, 1px, 1px, 1px);height: 1px;margin: -1px;overflow: hidden;padding: 0;position: absolute;width: 1px;}#sk-container-id-43 div.sk-estimator {font-family: monospace;background-color: #f0f8ff;border: 1px dotted black;border-radius: 0.25em;box-sizing: border-box;margin-bottom: 0.5em;}#sk-container-id-43 div.sk-estimator:hover {background-color: #d4ebff;}#sk-container-id-43 div.sk-parallel-item::after {content: \"\";width: 100%;border-bottom: 1px solid gray;flex-grow: 1;}#sk-container-id-43 div.sk-label:hover label.sk-toggleable__label {background-color: #d4ebff;}#sk-container-id-43 div.sk-serial::before {content: \"\";position: absolute;border-left: 1px solid gray;box-sizing: border-box;top: 0;bottom: 0;left: 50%;z-index: 0;}#sk-container-id-43 div.sk-serial {display: flex;flex-direction: column;align-items: center;background-color: white;padding-right: 0.2em;padding-left: 0.2em;position: relative;}#sk-container-id-43 div.sk-item {position: relative;z-index: 1;}#sk-container-id-43 div.sk-parallel {display: flex;align-items: stretch;justify-content: center;background-color: white;position: relative;}#sk-container-id-43 div.sk-item::before, #sk-container-id-43 div.sk-parallel-item::before {content: \"\";position: absolute;border-left: 1px solid gray;box-sizing: border-box;top: 0;bottom: 0;left: 50%;z-index: -1;}#sk-container-id-43 div.sk-parallel-item {display: flex;flex-direction: column;z-index: 1;position: relative;background-color: white;}#sk-container-id-43 div.sk-parallel-item:first-child::after {align-self: flex-end;width: 50%;}#sk-container-id-43 div.sk-parallel-item:last-child::after {align-self: flex-start;width: 50%;}#sk-container-id-43 div.sk-parallel-item:only-child::after {width: 0;}#sk-container-id-43 div.sk-dashed-wrapped {border: 1px dashed gray;margin: 0 0.4em 0.5em 0.4em;box-sizing: border-box;padding-bottom: 0.4em;background-color: white;}#sk-container-id-43 div.sk-label label {font-family: monospace;font-weight: bold;display: inline-block;line-height: 1.2em;}#sk-container-id-43 div.sk-label-container {text-align: center;}#sk-container-id-43 div.sk-container {/* jupyter's `normalize.less` sets `[hidden] { display: none; }` but bootstrap.min.css set `[hidden] { display: none !important; }` so we also need the `!important` here to be able to override the default hidden behavior on the sphinx rendered scikit-learn.org. See: https://github.com/scikit-learn/scikit-learn/issues/21755 */display: inline-block !important;position: relative;}#sk-container-id-43 div.sk-text-repr-fallback {display: none;}</style><div id=\"sk-container-id-43\" class=\"sk-top-container\"><div class=\"sk-text-repr-fallback\"><pre>KNeighborsClassifier()</pre><b>In a Jupyter environment, please rerun this cell to show the HTML representation or trust the notebook. <br />On GitHub, the HTML representation is unable to render, please try loading this page with nbviewer.org.</b></div><div class=\"sk-container\" hidden><div class=\"sk-item\"><div class=\"sk-estimator sk-toggleable\"><input class=\"sk-toggleable__control sk-hidden--visually\" id=\"sk-estimator-id-43\" type=\"checkbox\" checked><label for=\"sk-estimator-id-43\" class=\"sk-toggleable__label sk-toggleable__label-arrow\">KNeighborsClassifier</label><div class=\"sk-toggleable__content\"><pre>KNeighborsClassifier()</pre></div></div></div></div></div>"
            ],
            "text/plain": [
              "KNeighborsClassifier()"
            ]
          },
          "execution_count": 264,
          "metadata": {},
          "output_type": "execute_result"
        }
      ],
      "source": [
        "knn_classifier4.fit(x_train[L4], y_train[L4])"
      ]
    },
    {
      "cell_type": "code",
      "execution_count": 265,
      "metadata": {
        "id": "djw_n-srMz57"
      },
      "outputs": [
        {
          "name": "stderr",
          "output_type": "stream",
          "text": [
            "c:\\Python311\\Lib\\site-packages\\sklearn\\base.py:464: UserWarning: X does not have valid feature names, but KNeighborsClassifier was fitted with feature names\n",
            "  warnings.warn(\n",
            "c:\\Python311\\Lib\\site-packages\\sklearn\\base.py:464: UserWarning: X does not have valid feature names, but KNeighborsClassifier was fitted with feature names\n",
            "  warnings.warn(\n"
          ]
        }
      ],
      "source": [
        "y_pred = knn_classifier4.predict(np.array(x_valid[L4]))\n",
        "y_pred_test_before_L4 = knn_classifier4.predict(np.array(x_test[L4]))"
      ]
    },
    {
      "cell_type": "markdown",
      "metadata": {
        "id": "9VrHIBBaPWHn"
      },
      "source": [
        "## Accuracy Before Feature Engineering"
      ]
    },
    {
      "cell_type": "code",
      "execution_count": 266,
      "metadata": {
        "colab": {
          "base_uri": "https://localhost:8080/"
        },
        "id": "CV4f_1G6NDKD",
        "outputId": "314fe382-49e9-4051-a729-b8dec291155e"
      },
      "outputs": [
        {
          "name": "stdout",
          "output_type": "stream",
          "text": [
            "Accuracy: 0.9946666666666667\n",
            "Precision: 0.9947064676616915\n",
            "Recall: 0.9946666666666667\n"
          ]
        }
      ],
      "source": [
        "print(f\"Accuracy: {metrics.accuracy_score(y_valid[L4], y_pred)}\")\n",
        "print(f\"Precision: {metrics.precision_score(y_valid[L4], y_pred, average='weighted')}\")\n",
        "print(f\"Recall: {metrics.recall_score(y_valid[L4], y_pred,average='weighted')}\")"
      ]
    },
    {
      "cell_type": "code",
      "execution_count": 267,
      "metadata": {
        "id": "-XfIb4DDx4Sh"
      },
      "outputs": [],
      "source": [
        "pca = PCA(n_components = 0.85, svd_solver ='full')"
      ]
    },
    {
      "cell_type": "code",
      "execution_count": 268,
      "metadata": {
        "colab": {
          "base_uri": "https://localhost:8080/"
        },
        "id": "kUCY3iWRNc17",
        "outputId": "dc8e1643-8cdb-454d-c6a7-c96dab0a4da7"
      },
      "outputs": [
        {
          "name": "stdout",
          "output_type": "stream",
          "text": [
            "(28520, 39) (750, 39)\n"
          ]
        }
      ],
      "source": [
        "\n",
        "pca.fit(x_train[L4])\n",
        "x_train_trans = pd.DataFrame(pca.transform(x_train[L4]))\n",
        "x_valid_trans = pd.DataFrame(pca.transform(x_valid[L4]))\n",
        "x_test_pca = pca.transform(x_test[L4])\n",
        "\n",
        "print(x_train_trans.shape, x_valid_trans.shape)"
      ]
    },
    {
      "cell_type": "code",
      "execution_count": 269,
      "metadata": {
        "colab": {
          "base_uri": "https://localhost:8080/",
          "height": 74
        },
        "id": "PN53ilY_NlXT",
        "outputId": "f560481f-56f7-4112-ecad-c0151a938fe3"
      },
      "outputs": [
        {
          "data": {
            "text/html": [
              "<style>#sk-container-id-44 {color: black;}#sk-container-id-44 pre{padding: 0;}#sk-container-id-44 div.sk-toggleable {background-color: white;}#sk-container-id-44 label.sk-toggleable__label {cursor: pointer;display: block;width: 100%;margin-bottom: 0;padding: 0.3em;box-sizing: border-box;text-align: center;}#sk-container-id-44 label.sk-toggleable__label-arrow:before {content: \"▸\";float: left;margin-right: 0.25em;color: #696969;}#sk-container-id-44 label.sk-toggleable__label-arrow:hover:before {color: black;}#sk-container-id-44 div.sk-estimator:hover label.sk-toggleable__label-arrow:before {color: black;}#sk-container-id-44 div.sk-toggleable__content {max-height: 0;max-width: 0;overflow: hidden;text-align: left;background-color: #f0f8ff;}#sk-container-id-44 div.sk-toggleable__content pre {margin: 0.2em;color: black;border-radius: 0.25em;background-color: #f0f8ff;}#sk-container-id-44 input.sk-toggleable__control:checked~div.sk-toggleable__content {max-height: 200px;max-width: 100%;overflow: auto;}#sk-container-id-44 input.sk-toggleable__control:checked~label.sk-toggleable__label-arrow:before {content: \"▾\";}#sk-container-id-44 div.sk-estimator input.sk-toggleable__control:checked~label.sk-toggleable__label {background-color: #d4ebff;}#sk-container-id-44 div.sk-label input.sk-toggleable__control:checked~label.sk-toggleable__label {background-color: #d4ebff;}#sk-container-id-44 input.sk-hidden--visually {border: 0;clip: rect(1px 1px 1px 1px);clip: rect(1px, 1px, 1px, 1px);height: 1px;margin: -1px;overflow: hidden;padding: 0;position: absolute;width: 1px;}#sk-container-id-44 div.sk-estimator {font-family: monospace;background-color: #f0f8ff;border: 1px dotted black;border-radius: 0.25em;box-sizing: border-box;margin-bottom: 0.5em;}#sk-container-id-44 div.sk-estimator:hover {background-color: #d4ebff;}#sk-container-id-44 div.sk-parallel-item::after {content: \"\";width: 100%;border-bottom: 1px solid gray;flex-grow: 1;}#sk-container-id-44 div.sk-label:hover label.sk-toggleable__label {background-color: #d4ebff;}#sk-container-id-44 div.sk-serial::before {content: \"\";position: absolute;border-left: 1px solid gray;box-sizing: border-box;top: 0;bottom: 0;left: 50%;z-index: 0;}#sk-container-id-44 div.sk-serial {display: flex;flex-direction: column;align-items: center;background-color: white;padding-right: 0.2em;padding-left: 0.2em;position: relative;}#sk-container-id-44 div.sk-item {position: relative;z-index: 1;}#sk-container-id-44 div.sk-parallel {display: flex;align-items: stretch;justify-content: center;background-color: white;position: relative;}#sk-container-id-44 div.sk-item::before, #sk-container-id-44 div.sk-parallel-item::before {content: \"\";position: absolute;border-left: 1px solid gray;box-sizing: border-box;top: 0;bottom: 0;left: 50%;z-index: -1;}#sk-container-id-44 div.sk-parallel-item {display: flex;flex-direction: column;z-index: 1;position: relative;background-color: white;}#sk-container-id-44 div.sk-parallel-item:first-child::after {align-self: flex-end;width: 50%;}#sk-container-id-44 div.sk-parallel-item:last-child::after {align-self: flex-start;width: 50%;}#sk-container-id-44 div.sk-parallel-item:only-child::after {width: 0;}#sk-container-id-44 div.sk-dashed-wrapped {border: 1px dashed gray;margin: 0 0.4em 0.5em 0.4em;box-sizing: border-box;padding-bottom: 0.4em;background-color: white;}#sk-container-id-44 div.sk-label label {font-family: monospace;font-weight: bold;display: inline-block;line-height: 1.2em;}#sk-container-id-44 div.sk-label-container {text-align: center;}#sk-container-id-44 div.sk-container {/* jupyter's `normalize.less` sets `[hidden] { display: none; }` but bootstrap.min.css set `[hidden] { display: none !important; }` so we also need the `!important` here to be able to override the default hidden behavior on the sphinx rendered scikit-learn.org. See: https://github.com/scikit-learn/scikit-learn/issues/21755 */display: inline-block !important;position: relative;}#sk-container-id-44 div.sk-text-repr-fallback {display: none;}</style><div id=\"sk-container-id-44\" class=\"sk-top-container\"><div class=\"sk-text-repr-fallback\"><pre>KNeighborsClassifier()</pre><b>In a Jupyter environment, please rerun this cell to show the HTML representation or trust the notebook. <br />On GitHub, the HTML representation is unable to render, please try loading this page with nbviewer.org.</b></div><div class=\"sk-container\" hidden><div class=\"sk-item\"><div class=\"sk-estimator sk-toggleable\"><input class=\"sk-toggleable__control sk-hidden--visually\" id=\"sk-estimator-id-44\" type=\"checkbox\" checked><label for=\"sk-estimator-id-44\" class=\"sk-toggleable__label sk-toggleable__label-arrow\">KNeighborsClassifier</label><div class=\"sk-toggleable__content\"><pre>KNeighborsClassifier()</pre></div></div></div></div></div>"
            ],
            "text/plain": [
              "KNeighborsClassifier()"
            ]
          },
          "execution_count": 269,
          "metadata": {},
          "output_type": "execute_result"
        }
      ],
      "source": [
        "knn_classifier4.fit(x_train_trans, y_train[L4])"
      ]
    },
    {
      "cell_type": "code",
      "execution_count": 270,
      "metadata": {
        "id": "VLtt5YLtNr1O"
      },
      "outputs": [],
      "source": [
        "y_pred = knn_classifier4.predict(np.array(x_valid_trans))\n"
      ]
    },
    {
      "cell_type": "code",
      "execution_count": 271,
      "metadata": {
        "colab": {
          "base_uri": "https://localhost:8080/"
        },
        "id": "JNyO5fgRfC2k",
        "outputId": "0846c8d0-e1f7-4d55-fedc-35433a50db75"
      },
      "outputs": [
        {
          "name": "stdout",
          "output_type": "stream",
          "text": [
            "Predicted labels after feature engineering: [ 6  6  6  6  6  6  6  6  6  6  6  6  6  6  6  6  6  6 13 13 13 13 13 13\n",
            " 13 13  4  4  4  4  4  4  4  4  4  4  4  4  6  4  4  4  6  6  6  6  6  6\n",
            "  6  6  6  6  6  6  5  5  5  5  5  5  5  5  5  5  5  1  1  1  1  1  1  1\n",
            "  1  1  1  6  6  6  6  6  6  6  6  6  6  6  6  6  6  6  6  6  6  6  6  6\n",
            "  6  6  6  6  6  6  6  6  6  6  6  6  6  6  6  6  2  2  2  2  2  2  2  2\n",
            "  6  6  6  6  6  6  6  6  6  6  6  6  6  6  6  6  6  6  6  6  6  6  6  6\n",
            "  6  6  6  6  6  6  6  6  6  6  6  6  6  6  6  6  6  6  6  6  6  6  6  6\n",
            "  6  6  6  6  6  6  6  6  6  6  6  6  6  6  6  6  6  6  6  6  6  6  6  6\n",
            "  6  6  6  6  6  6  6  7  7  7  7  7  7  7  7  7  7  7  7 12  7  7  7  7\n",
            "  6  6  6  6  6  6  6  6  6  6  6  6  6  6  6  6  6  6  6  6  6  6  6  6\n",
            "  6  6  6  6  6  6  6  6  6  6  6  6  6  6  6  6  6  6  3  3  3  3  3  3\n",
            "  3  3  3  3  3  3  3  6  6  6  6  6  6  6  6  6  6  6  6  6  6  6  6  6\n",
            "  6  6  6  6  6  6  6  6  6  6  6  6  6  6  6  6  6  6  6  6  6  6  6  6\n",
            "  6  6  6  6  6  6  6  6  6  6  6  6  6  6  6  6  6  6  6  6  6  6  6  6\n",
            "  6  6  6  6  6  6  6  6  6  6  6  6  6  6  6  6  6  6  6  6  6  6  6  6\n",
            "  6  6  6  6  6  6  6  6  6  6  6  6  6  6  6  6  6  6  6  6  6  6  6  6\n",
            "  6  6  6  6  6  6  6  6  6  6  6  0  0  0  0  0  0  0  0  0  0  0  0  0\n",
            "  0  0  0  6  6  6  6  6  6  6  6  6  6  6  6  6  6  6  6  6  6  6  6  6\n",
            " 12 12  7 12 12 12 12 12 12 12 12 12 12  6  6  6  6  6  6  6  6  6  6  6\n",
            "  6  6  6  6  6  6  6  6  6  6  6  6  6  6  6  6  6  2  6  6  6  6  6  6\n",
            "  6  6  6  6  6  6  6  6  6  6  6  6  7 12 12 12 12 12  8  9  9  9  9  9\n",
            "  9  9  9  9  9  9  9  2  2  2  2  2  2  6  6  6  6  6  6  6  6  6  6  6\n",
            "  6  6  6  6  6  6  6  6  6  6  6  6  6  6  6  6  6  8  8  8  8  8  8  8\n",
            "  8  8  8  8  8  8  8  8  8  6  6  6  6  6  6  6  6  6  6 11 11 11 11 11\n",
            " 11 11 11 11  6  6  6  6  6  6  6  6  6  6  6  7  7  7  7  7  7  7  7  7\n",
            "  7  7  7  7  7  0  0  0  6  0  0  0  0  0  2  2  2  2  2  2  2  2  2  2\n",
            " 10 10 10 10 10 10 10  6 10 10  6  6  6  6  6  6  6  6  6  6  6  6  6  6\n",
            "  6  6  6  6  6  6  6  6  6  6  6  6  6  6  6  6  6  6  6  6  6  6  6  6\n",
            "  6  6  6  6  6  6  6  6  6  6  6  6  6  6  6  6  6  6  6  6  6  6  6  6\n",
            "  6  6  6  6  6  6  6  6  6  6  6  6  6  6  6  6  6  6  6  6  6  6  6  6\n",
            "  6  6  6  6  6  6  6  6  6  6  6  6  6  6  6  6  6  6  6  6  6  6  6  6\n",
            "  6  6  6  6  6  6]\n"
          ]
        }
      ],
      "source": [
        "y_pred_test_after_L4 = knn_classifier4.predict(x_test_pca)\n",
        "print('Predicted labels after feature engineering:', y_pred_test_after_L4)"
      ]
    },
    {
      "cell_type": "code",
      "execution_count": 272,
      "metadata": {
        "colab": {
          "base_uri": "https://localhost:8080/",
          "height": 325
        },
        "id": "q5AnIuf3XtLV",
        "outputId": "569c0c38-12ce-4a41-e8db-7f9dd99cf345"
      },
      "outputs": [
        {
          "data": {
            "text/html": [
              "<div>\n",
              "<style scoped>\n",
              "    .dataframe tbody tr th:only-of-type {\n",
              "        vertical-align: middle;\n",
              "    }\n",
              "\n",
              "    .dataframe tbody tr th {\n",
              "        vertical-align: top;\n",
              "    }\n",
              "\n",
              "    .dataframe thead th {\n",
              "        text-align: right;\n",
              "    }\n",
              "</style>\n",
              "<table border=\"1\" class=\"dataframe\">\n",
              "  <thead>\n",
              "    <tr style=\"text-align: right;\">\n",
              "      <th></th>\n",
              "      <th>Predicted labels before feature engineering</th>\n",
              "      <th>Predicted labels after feature engineering</th>\n",
              "      <th>No. of new features</th>\n",
              "      <th>New feature 1</th>\n",
              "      <th>New feature 2</th>\n",
              "      <th>New feature 3</th>\n",
              "      <th>New feature 4</th>\n",
              "      <th>New feature 5</th>\n",
              "      <th>New feature 6</th>\n",
              "      <th>New feature 7</th>\n",
              "      <th>...</th>\n",
              "      <th>New feature 30</th>\n",
              "      <th>New feature 31</th>\n",
              "      <th>New feature 32</th>\n",
              "      <th>New feature 33</th>\n",
              "      <th>New feature 34</th>\n",
              "      <th>New feature 35</th>\n",
              "      <th>New feature 36</th>\n",
              "      <th>New feature 37</th>\n",
              "      <th>New feature 38</th>\n",
              "      <th>New feature 39</th>\n",
              "    </tr>\n",
              "  </thead>\n",
              "  <tbody>\n",
              "    <tr>\n",
              "      <th>0</th>\n",
              "      <td>6</td>\n",
              "      <td>6</td>\n",
              "      <td>39</td>\n",
              "      <td>-1.967567</td>\n",
              "      <td>6.945703</td>\n",
              "      <td>-3.947321</td>\n",
              "      <td>-1.108198</td>\n",
              "      <td>-6.440248</td>\n",
              "      <td>-1.053785</td>\n",
              "      <td>3.471608</td>\n",
              "      <td>...</td>\n",
              "      <td>1.833450</td>\n",
              "      <td>1.251084</td>\n",
              "      <td>0.233115</td>\n",
              "      <td>2.702653</td>\n",
              "      <td>2.902344</td>\n",
              "      <td>-1.011773</td>\n",
              "      <td>-1.376811</td>\n",
              "      <td>-0.408022</td>\n",
              "      <td>2.432256</td>\n",
              "      <td>-1.071824</td>\n",
              "    </tr>\n",
              "    <tr>\n",
              "      <th>1</th>\n",
              "      <td>6</td>\n",
              "      <td>6</td>\n",
              "      <td>39</td>\n",
              "      <td>-6.692310</td>\n",
              "      <td>8.884467</td>\n",
              "      <td>-0.489867</td>\n",
              "      <td>-10.240206</td>\n",
              "      <td>-4.576115</td>\n",
              "      <td>2.229018</td>\n",
              "      <td>-2.025519</td>\n",
              "      <td>...</td>\n",
              "      <td>0.115382</td>\n",
              "      <td>0.855785</td>\n",
              "      <td>0.174110</td>\n",
              "      <td>-0.987622</td>\n",
              "      <td>0.365215</td>\n",
              "      <td>-0.650891</td>\n",
              "      <td>-1.446016</td>\n",
              "      <td>-1.175507</td>\n",
              "      <td>0.982672</td>\n",
              "      <td>-0.651031</td>\n",
              "    </tr>\n",
              "    <tr>\n",
              "      <th>2</th>\n",
              "      <td>6</td>\n",
              "      <td>6</td>\n",
              "      <td>39</td>\n",
              "      <td>-4.810155</td>\n",
              "      <td>3.547653</td>\n",
              "      <td>-0.297522</td>\n",
              "      <td>-5.550987</td>\n",
              "      <td>-2.225314</td>\n",
              "      <td>-1.305231</td>\n",
              "      <td>-0.434514</td>\n",
              "      <td>...</td>\n",
              "      <td>1.085848</td>\n",
              "      <td>2.371444</td>\n",
              "      <td>-0.099275</td>\n",
              "      <td>-0.838729</td>\n",
              "      <td>-1.036768</td>\n",
              "      <td>-1.143609</td>\n",
              "      <td>-1.294504</td>\n",
              "      <td>-0.763070</td>\n",
              "      <td>0.093595</td>\n",
              "      <td>1.043378</td>\n",
              "    </tr>\n",
              "    <tr>\n",
              "      <th>3</th>\n",
              "      <td>6</td>\n",
              "      <td>6</td>\n",
              "      <td>39</td>\n",
              "      <td>-2.185614</td>\n",
              "      <td>5.993099</td>\n",
              "      <td>-1.089448</td>\n",
              "      <td>-0.938549</td>\n",
              "      <td>2.566186</td>\n",
              "      <td>4.411621</td>\n",
              "      <td>0.475160</td>\n",
              "      <td>...</td>\n",
              "      <td>1.001001</td>\n",
              "      <td>1.175007</td>\n",
              "      <td>-1.125593</td>\n",
              "      <td>-2.486466</td>\n",
              "      <td>-2.091227</td>\n",
              "      <td>-1.359647</td>\n",
              "      <td>-0.514262</td>\n",
              "      <td>-2.105196</td>\n",
              "      <td>0.170947</td>\n",
              "      <td>1.221653</td>\n",
              "    </tr>\n",
              "    <tr>\n",
              "      <th>4</th>\n",
              "      <td>6</td>\n",
              "      <td>6</td>\n",
              "      <td>39</td>\n",
              "      <td>0.695696</td>\n",
              "      <td>6.181181</td>\n",
              "      <td>1.442544</td>\n",
              "      <td>-3.112025</td>\n",
              "      <td>-2.881196</td>\n",
              "      <td>-1.171098</td>\n",
              "      <td>1.626019</td>\n",
              "      <td>...</td>\n",
              "      <td>2.235556</td>\n",
              "      <td>-0.614469</td>\n",
              "      <td>0.779440</td>\n",
              "      <td>-1.510207</td>\n",
              "      <td>0.395952</td>\n",
              "      <td>-0.164901</td>\n",
              "      <td>-0.709025</td>\n",
              "      <td>-1.933551</td>\n",
              "      <td>0.545245</td>\n",
              "      <td>0.083859</td>\n",
              "    </tr>\n",
              "  </tbody>\n",
              "</table>\n",
              "<p>5 rows × 42 columns</p>\n",
              "</div>"
            ],
            "text/plain": [
              "   Predicted labels before feature engineering  \\\n",
              "0                                            6   \n",
              "1                                            6   \n",
              "2                                            6   \n",
              "3                                            6   \n",
              "4                                            6   \n",
              "\n",
              "   Predicted labels after feature engineering  No. of new features  \\\n",
              "0                                           6                   39   \n",
              "1                                           6                   39   \n",
              "2                                           6                   39   \n",
              "3                                           6                   39   \n",
              "4                                           6                   39   \n",
              "\n",
              "   New feature 1  New feature 2  New feature 3  New feature 4  New feature 5  \\\n",
              "0      -1.967567       6.945703      -3.947321      -1.108198      -6.440248   \n",
              "1      -6.692310       8.884467      -0.489867     -10.240206      -4.576115   \n",
              "2      -4.810155       3.547653      -0.297522      -5.550987      -2.225314   \n",
              "3      -2.185614       5.993099      -1.089448      -0.938549       2.566186   \n",
              "4       0.695696       6.181181       1.442544      -3.112025      -2.881196   \n",
              "\n",
              "   New feature 6  New feature 7  ...  New feature 30  New feature 31  \\\n",
              "0      -1.053785       3.471608  ...        1.833450        1.251084   \n",
              "1       2.229018      -2.025519  ...        0.115382        0.855785   \n",
              "2      -1.305231      -0.434514  ...        1.085848        2.371444   \n",
              "3       4.411621       0.475160  ...        1.001001        1.175007   \n",
              "4      -1.171098       1.626019  ...        2.235556       -0.614469   \n",
              "\n",
              "   New feature 32  New feature 33  New feature 34  New feature 35  \\\n",
              "0        0.233115        2.702653        2.902344       -1.011773   \n",
              "1        0.174110       -0.987622        0.365215       -0.650891   \n",
              "2       -0.099275       -0.838729       -1.036768       -1.143609   \n",
              "3       -1.125593       -2.486466       -2.091227       -1.359647   \n",
              "4        0.779440       -1.510207        0.395952       -0.164901   \n",
              "\n",
              "   New feature 36  New feature 37  New feature 38  New feature 39  \n",
              "0       -1.376811       -0.408022        2.432256       -1.071824  \n",
              "1       -1.446016       -1.175507        0.982672       -0.651031  \n",
              "2       -1.294504       -0.763070        0.093595        1.043378  \n",
              "3       -0.514262       -2.105196        0.170947        1.221653  \n",
              "4       -0.709025       -1.933551        0.545245        0.083859  \n",
              "\n",
              "[5 rows x 42 columns]"
            ]
          },
          "execution_count": 272,
          "metadata": {},
          "output_type": "execute_result"
        }
      ],
      "source": [
        "output_df = pd.DataFrame({\n",
        "    'Predicted labels before feature engineering': y_pred_test_before_L4,\n",
        "    'Predicted labels after feature engineering': y_pred_test_after_L4,\n",
        "    'No. of new features': x_test_pca.shape[1]\n",
        "})\n",
        "\n",
        "\n",
        "for i in range(x_test_pca.shape[1]):\n",
        "  output_df[f'New feature {i+1}'] = x_test_pca[:, i]\n",
        "\n",
        "output_df.head()"
      ]
    },
    {
      "cell_type": "code",
      "execution_count": 273,
      "metadata": {
        "id": "aPYhyyBXXvBj"
      },
      "outputs": [],
      "source": [
        "# Save the DataFrame to the specified CSV file path\n",
        "output_df.to_csv(f\"output/190394R_label_4.csv\", index=False)"
      ]
    },
    {
      "cell_type": "code",
      "execution_count": 274,
      "metadata": {
        "id": "oq2_XlgvXqBv"
      },
      "outputs": [],
      "source": [
        "y_pred_test_after = knn_classifier4.predict(x_test_pca)"
      ]
    },
    {
      "cell_type": "markdown",
      "metadata": {
        "id": "qclQCgBnPYSe"
      },
      "source": [
        "Accuracy After Feature Engineering - PCA"
      ]
    },
    {
      "cell_type": "code",
      "execution_count": 275,
      "metadata": {
        "colab": {
          "base_uri": "https://localhost:8080/"
        },
        "id": "zuKZtoYSNy3U",
        "outputId": "df0b3986-899a-45c4-86d8-e54b703542f2"
      },
      "outputs": [
        {
          "name": "stdout",
          "output_type": "stream",
          "text": [
            "Accuracy: 0.988\n",
            "Precision: 0.9882956567537573\n",
            "Recall: 0.988\n"
          ]
        }
      ],
      "source": [
        "print(f\"Accuracy: {metrics.accuracy_score(y_valid[L4], y_pred)}\")\n",
        "print(f\"Precision: {metrics.precision_score(y_valid[L4], y_pred, average='weighted')}\")\n",
        "print(f\"Recall: {metrics.recall_score(y_valid[L4], y_pred,average='weighted')}\")"
      ]
    }
  ],
  "metadata": {
    "colab": {
      "provenance": []
    },
    "kernelspec": {
      "display_name": "Python 3",
      "name": "python3"
    },
    "language_info": {
      "codemirror_mode": {
        "name": "ipython",
        "version": 3
      },
      "file_extension": ".py",
      "mimetype": "text/x-python",
      "name": "python",
      "nbconvert_exporter": "python",
      "pygments_lexer": "ipython3",
      "version": "3.11.0"
    }
  },
  "nbformat": 4,
  "nbformat_minor": 0
}
